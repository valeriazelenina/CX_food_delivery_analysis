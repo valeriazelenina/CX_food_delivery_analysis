{
 "cells": [
  {
   "cell_type": "markdown",
   "id": "c548af8d",
   "metadata": {},
   "source": [
    "**Блок 1. Постановка задачи и первоначальные гипотезы;**\n",
    "\n",
    "***Исследовательский вопрос:*** есть ли статистически значимая связь между интегральным индексом удовлетворенности (overall_satisfaction_index), агрегирующим оценки по трем аспектам удовлетворенности, и общей оценкой удовлетворенности (satisfaction_level)?\n",
    "    \n",
    "***Подход:*** для ответа на этот вопрос был расчитан интегральный индекс удовлетворенности (overall_satisfaction_index), агрегирующий оценки по трем аспектам с равными весами.\n",
    "    \n",
    "***Статистические гипотезы:***\n",
    "    \n",
    "**H₀:** Между overall_satisfaction_index и satisfaction_level отсутствует статистически значимая корреляция.\n",
    "\n",
    "**H₁:** Между overall_satisfaction_index и satisfaction_level существует статистически значимая положительная корреляция.\n"
   ]
  },
  {
   "cell_type": "code",
   "execution_count": 46,
   "id": "112be0df",
   "metadata": {},
   "outputs": [],
   "source": [
    "#импортируем pandas и читаем csv файл\n",
    "\n",
    "import pandas as pd\n",
    "delivery_df=pd.read_csv(\"delivery_satisfaction_data.csv\")"
   ]
  },
  {
   "cell_type": "code",
   "execution_count": 47,
   "id": "5b236631",
   "metadata": {},
   "outputs": [
    {
     "name": "stdout",
     "output_type": "stream",
     "text": [
      "   delivery_time_min  food_quality  delivery_speed_rating  \\\n",
      "0                 44             5                      3   \n",
      "1                 38             5                      4   \n",
      "2                 46             4                      4   \n",
      "3                 55             3                      1   \n",
      "4                 37             5                      2   \n",
      "\n",
      "   packaging_quality_rating  courier_politeness_rating  satisfaction_level  \\\n",
      "0                         3                          1                   5   \n",
      "1                         4                          5                   2   \n",
      "2                         3                          2                   4   \n",
      "3                         4                          4                   3   \n",
      "4                         2                          3                   4   \n",
      "\n",
      "   price_satisfaction  delivery_person_ID  Restaurant_latitude  \\\n",
      "0                   4                 117            55.706858   \n",
      "1                   4                 164            55.809104   \n",
      "2                   4                 288            55.768035   \n",
      "3                   3                  28            55.715939   \n",
      "4                   4                   1            55.726075   \n",
      "\n",
      "   Restaurant_longitude  Delivery_location_latitude  \\\n",
      "0             37.757640                   55.708540   \n",
      "1             37.767948                   55.825865   \n",
      "2             37.422063                   55.784031   \n",
      "3             37.728257                   55.713865   \n",
      "4             37.415079                   55.717051   \n",
      "\n",
      "   Delivery_location_longitude  order_price  \n",
      "0                    37.751251  1470.529899  \n",
      "1                    37.772782   840.479761  \n",
      "2                    37.437702  1066.118685  \n",
      "3                    37.728104   891.066112  \n",
      "4                    37.428068  1331.031279  \n",
      "(1000, 13)\n",
      "<class 'pandas.core.frame.DataFrame'>\n",
      "RangeIndex: 1000 entries, 0 to 999\n",
      "Data columns (total 13 columns):\n",
      " #   Column                       Non-Null Count  Dtype  \n",
      "---  ------                       --------------  -----  \n",
      " 0   delivery_time_min            1000 non-null   int64  \n",
      " 1   food_quality                 1000 non-null   int64  \n",
      " 2   delivery_speed_rating        1000 non-null   int64  \n",
      " 3   packaging_quality_rating     1000 non-null   int64  \n",
      " 4   courier_politeness_rating    1000 non-null   int64  \n",
      " 5   satisfaction_level           1000 non-null   int64  \n",
      " 6   price_satisfaction           1000 non-null   int64  \n",
      " 7   delivery_person_ID           1000 non-null   int64  \n",
      " 8   Restaurant_latitude          1000 non-null   float64\n",
      " 9   Restaurant_longitude         1000 non-null   float64\n",
      " 10  Delivery_location_latitude   1000 non-null   float64\n",
      " 11  Delivery_location_longitude  1000 non-null   float64\n",
      " 12  order_price                  1000 non-null   float64\n",
      "dtypes: float64(5), int64(8)\n",
      "memory usage: 101.7 KB\n",
      "None\n"
     ]
    }
   ],
   "source": [
    "#изучаем структуру данных, проверяем данные на наличие пропусков\n",
    "#мы не проверяем df на наличие выбросов и значений >5 и <1, так как данные получены путем опроса в приложении с фиксированными вариантами ответов\n",
    "\n",
    "print(delivery_df.head())\n",
    "print(delivery_df.shape)\n",
    "print(delivery_df.info())"
   ]
  },
  {
   "cell_type": "markdown",
   "id": "f56dedfe",
   "metadata": {},
   "source": [
    "Рассчитаем интегральный индекс удовлетворенности (overall_satisfaction_index), отражающий уровень удовлетворенности клиентов отдельными\n",
    "аспектами доставки:\n",
    "\n",
    "\n",
    "1) **food_subindex** - уровень удовлетворенности качеством еды;\n",
    "\n",
    "2) **delivery_subindex** - уровень удовлетворенности качеством доставки;\n",
    "\n",
    "3) **price_subindex** - уровень удовлетворенности ценой заказа;"
   ]
  },
  {
   "cell_type": "code",
   "execution_count": 48,
   "id": "182d7d73",
   "metadata": {},
   "outputs": [],
   "source": [
    "#создаем новые столбцы с саб-индексами - средними значениями удовлетворенности разными аспектами для каждого заказа:\n",
    "\n",
    "delivery_df['delivery_subindex']=delivery_df[['delivery_speed_rating', 'packaging_quality_rating', 'courier_politeness_rating']].mean(axis=1)\n",
    "delivery_df['price_subindex']=delivery_df['price_satisfaction']\n",
    "delivery_df['food_subindex']=delivery_df['food_quality']"
   ]
  },
  {
   "cell_type": "markdown",
   "id": "ec631abf",
   "metadata": {},
   "source": [
    "Присвоим саб-индексам веса: в нашем случае - равновесные коэффициенты 0.33\n",
    "(т.к. в условиях решения учебного кейса нет возможности узнать мнение о важности каждого саб-индекса у бизнеса)"
   ]
  },
  {
   "cell_type": "code",
   "execution_count": 49,
   "id": "cccf8bbc",
   "metadata": {},
   "outputs": [
    {
     "data": {
      "text/plain": [
       "0      3.74\n",
       "1      4.40\n",
       "2      3.63\n",
       "3      2.97\n",
       "4      3.74\n",
       "       ... \n",
       "995    3.30\n",
       "996    3.85\n",
       "997    3.30\n",
       "998    3.08\n",
       "999    3.19\n",
       "Name: overall_satisfaction_index, Length: 1000, dtype: float64"
      ]
     },
     "execution_count": 49,
     "metadata": {},
     "output_type": "execute_result"
    }
   ],
   "source": [
    "delivery_df['overall_satisfaction_index']=(delivery_df['food_subindex']*0.33+delivery_df['delivery_subindex']*0.33+delivery_df['price_subindex']*0.33)\n",
    "delivery_df['overall_satisfaction_index']"
   ]
  },
  {
   "cell_type": "markdown",
   "id": "d8517437",
   "metadata": {},
   "source": [
    "**Блок 1.2 Проверка данных и выбор метода исследования;**"
   ]
  },
  {
   "cell_type": "markdown",
   "id": "a41e374e",
   "metadata": {},
   "source": [
    "**1.2.1 Анализ распределения непрерывной переменной (overall_satisfaction_index);**\n",
    "\n",
    "Для корректного выбора метода корреляционного анализа необходимо было проверить распределение данных на соответствие нормальному.\n",
    "\n",
    "\n",
    "***Для непрерывных данных (overall_satisfaction_index) были проведены следующие проверки:***\n"
   ]
  },
  {
   "cell_type": "markdown",
   "id": "b3d56e13",
   "metadata": {},
   "source": [
    "**а) Визуальный анализ;**"
   ]
  },
  {
   "cell_type": "code",
   "execution_count": 50,
   "id": "f2034d5d",
   "metadata": {},
   "outputs": [
    {
     "data": {
      "image/png": "[encoded data removed]",
      "text/plain": [
       "<Figure size 864x504 with 1 Axes>"
      ]
     },
     "metadata": {
      "needs_background": "light"
     },
     "output_type": "display_data"
    }
   ],
   "source": [
    "#гистограмма\n",
    "\n",
    "#импортируем необходимые библиотеки\n",
    "\n",
    "import matplotlib.pyplot as plt\n",
    "import seaborn as sns\n",
    "\n",
    "plt.figure(figsize=(12, 7))\n",
    "\n",
    "plt.subplot\n",
    "sns.histplot(delivery_df['overall_satisfaction_index'], kde=True)\n",
    "plt.title('Распределение Интегрального индекса');"
   ]
  },
  {
   "cell_type": "markdown",
   "id": "9c845ba2",
   "metadata": {},
   "source": [
    "**Выводы по графику:**\n",
    "    \n",
    "- визуальная схожесть распределения с нормальным: распределение является унимодальным и в целом симметрично, однако, имеет несколько \"провалов\";\n",
    "- большинство значений сгруппировано в диапазоне от 2.5 до 4.5, с пиком около 3.75.\n"
   ]
  },
  {
   "cell_type": "code",
   "execution_count": 51,
   "id": "2f25bc4e",
   "metadata": {},
   "outputs": [
    {
     "data": {
      "image/png": "[encoded data removed]",
      "text/plain": [
       "<Figure size 864x504 with 1 Axes>"
      ]
     },
     "metadata": {
      "needs_background": "light"
     },
     "output_type": "display_data"
    }
   ],
   "source": [
    "#QQ-plot\n",
    "\n",
    "#импортируем необходимые библиотеки\n",
    "\n",
    "import statsmodels.api as sm\n",
    "\n",
    "plt.figure(figsize=(12, 7))\n",
    "\n",
    "plt.subplot\n",
    "sm.qqplot(delivery_df['overall_satisfaction_index'], line='s', ax=plt.gca())\n",
    "plt.title('Q-Q плот для Интегрального индекса');"
   ]
  },
  {
   "cell_type": "markdown",
   "id": "d0235b4a",
   "metadata": {},
   "source": [
    "**Выводы по графику:**\n",
    "\n",
    "- расположение большинства точек вблизи теоретической линии показывает, что распределение близко к нормальному;\n",
    "- расположение точек \"хвостах\" указывает на то, что \"хвосты\" распределения легче, чем у идеального нормального распределения (экстремально высоких и низких значений несколько меньше, чем было бы в нормальном распределении);\n"
   ]
  },
  {
   "cell_type": "markdown",
   "id": "feae1c64",
   "metadata": {},
   "source": [
    "**б) Статистический тест;**"
   ]
  },
  {
   "cell_type": "markdown",
   "id": "ae845358",
   "metadata": {},
   "source": [
    "Применим тест Шапиро-Уилка с расчетом p-value.\n",
    "\n",
    "**H₀:** Данные в выборке извлечены из генеральной совокупности, имеющей нормальное распределение (распределение данных не отличается от нормального).\n",
    "\n",
    "**H₁:** Распределение данных в выборке отличается от нормального (данные распределены не нормально).\n"
   ]
  },
  {
   "cell_type": "code",
   "execution_count": 52,
   "id": "e5ac1ec7",
   "metadata": {},
   "outputs": [
    {
     "name": "stdout",
     "output_type": "stream",
     "text": [
      "Статистика для индекса=0.983, p-value=0.000\n",
      "Распределение Индекса отличается от нормального (отвергаем H0)\n"
     ]
    }
   ],
   "source": [
    "#импортируем необходимые библиотеки\n",
    "\n",
    "from scipy.stats import shapiro\n",
    "\n",
    "stat_index, p_index = shapiro(delivery_df['overall_satisfaction_index'])\n",
    "print(f'Статистика для индекса={stat_index:.3f}, p-value={p_index:.3f}')\n",
    "\n",
    "# Добавим блок с автоматической интерпретацией p-value\n",
    "alpha = 0.05 \n",
    "\n",
    "if p_index > alpha:\n",
    "    print('Распределение Индекса не отличается от нормального (не отвергаем H0)')\n",
    "else:\n",
    "    print('Распределение Индекса отличается от нормального (отвергаем H0)')"
   ]
  },
  {
   "cell_type": "markdown",
   "id": "bd766e55",
   "metadata": {},
   "source": [
    "**Вывод:**\n",
    "- тест Шапиро-Уилка показал, что распределение данных отличается от нормального;\n",
    "- возможно, тест зафиксировал меньшее, чем в нормальном распределении, количество экстремально высоких и экстремально низких значений, визуально определенное нами на графике QQ-plot;"
   ]
  },
  {
   "cell_type": "markdown",
   "id": "763fe267",
   "metadata": {},
   "source": [
    "**1.2.2 Анализ дискретной переменной (satisfaction_level);**"
   ]
  },
  {
   "cell_type": "markdown",
   "id": "90e2c15c",
   "metadata": {},
   "source": [
    "Переменная satisfaction_level является дискретной (порядковой), так как она может принимать только ограниченный набор целых значений (1, 2, 3, 4, 5), поэтому для анализа будем использовать график countplot"
   ]
  },
  {
   "cell_type": "code",
   "execution_count": 53,
   "id": "2604716b",
   "metadata": {
    "scrolled": true
   },
   "outputs": [
    {
     "data": {
      "image/png": "[encoded data removed]",
      "text/plain": [
       "<Figure size 576x360 with 1 Axes>"
      ]
     },
     "metadata": {
      "needs_background": "light"
     },
     "output_type": "display_data"
    }
   ],
   "source": [
    "plt.figure(figsize=(8, 5))\n",
    "\n",
    "sns.countplot(x='satisfaction_level', data=delivery_df)\n",
    "\n",
    "plt.title('Распределение общих оценок удовлетворенности')\n",
    "plt.xlabel('Общая оценка (1-5)')\n",
    "plt.ylabel('Количество клиентов')\n",
    "plt.show()"
   ]
  },
  {
   "cell_type": "markdown",
   "id": "c3ae4c1d",
   "metadata": {},
   "source": [
    "**Выводы по графику:**\n",
    "- дискретность: данные являются дискретными, принимая только целые значения от 2 до 5;\n",
    "- ненормальность: распределение асимметрично (скошено влево) и не соответствует нормальному. Наиболее частыми оценками являются \"4\" и \"5\";"
   ]
  },
  {
   "cell_type": "markdown",
   "id": "3463fe51",
   "metadata": {},
   "source": [
    "**1.2.3 Проверка данных на линейность и монотонность;**"
   ]
  },
  {
   "cell_type": "code",
   "execution_count": 54,
   "id": "ad780e97",
   "metadata": {},
   "outputs": [
    {
     "data": {
      "image/png": "[encoded data removed]",
      "text/plain": [
       "<Figure size 720x432 with 1 Axes>"
      ]
     },
     "metadata": {
      "needs_background": "light"
     },
     "output_type": "display_data"
    }
   ],
   "source": [
    "# диаграмма рассеяния (scatter plot)\n",
    "\n",
    "plt.figure(figsize=(10, 6))\n",
    "sns.scatterplot(x='overall_satisfaction_index', y='satisfaction_level', data=delivery_df)\n",
    "\n",
    "sns.regplot(x='overall_satisfaction_index', y='satisfaction_level', data=delivery_df, scatter=False, color='red')\n",
    "\n",
    "plt.title('Диаграмма рассеяния для индекса и общей оценки удовлетворенности')\n",
    "plt.xlabel('Интегральный индекс удовлетворенности (Overall Satisfaction Index)')\n",
    "plt.ylabel('Общая оценка удовлетворенности (Satisfaction Level)')\n",
    "plt.grid(True)\n",
    "plt.show()"
   ]
  },
  {
   "cell_type": "markdown",
   "id": "c3e60bdb",
   "metadata": {},
   "source": [
    "**Выводы по графику:**\n",
    "- видимый наклон линии регрессии может свидетельствовать о наличии положительной связи, однако, наличие широкого доверительного интервала, в свою очередь, может свилетельствовать о том, что эта тенденция не является статистически значимой и, скорее всего, объясняется случайностью. Результат требует дополнительной проверки;\n",
    "- отсутствие монотонной связи: отсутствует какой-либо тренд, для любого X - весь спектр значений Y;"
   ]
  },
  {
   "cell_type": "markdown",
   "id": "465ee050",
   "metadata": {},
   "source": [
    "**Вывод:**\n",
    "\n",
    "учитывая дискретный и ненормальный характер распределения переменной satisfaction_level, использование параметрических методов, таких как корреляция Пирсона, было бы некорректным. Так же, ненормальный характер распределения переменной overall_satisfaction_index и отсутствие монотонной связи между переменными требует исследования с применением непараметрических методов, поэтому для дальнейшего анализа был выбран коэффициент ранговой корреляции Спирмена, который нечувствителен к форме распределения и предназначен для работы с порядковыми данными."
   ]
  },
  {
   "cell_type": "code",
   "execution_count": 55,
   "id": "fb2496af",
   "metadata": {},
   "outputs": [
    {
     "name": "stdout",
     "output_type": "stream",
     "text": [
      "Коэффициент корреляции Спирмена (r): 0.1129\n",
      "P-value: 0.0003\n",
      "Результат статистически значим: отвергаем нулевую гипотезу.\n",
      "Есть основания полагать, что между переменными существует линейная связь.\n"
     ]
    }
   ],
   "source": [
    "#расчет корреляции Спирмена и p-value\n",
    "\n",
    "from scipy.stats import spearmanr\n",
    "\n",
    "x = delivery_df['overall_satisfaction_index']\n",
    "y = delivery_df['satisfaction_level']\n",
    "\n",
    "corr_coef, p_value = spearmanr(x, y)\n",
    "\n",
    "print(f\"Коэффициент корреляции Спирмена (r): {corr_coef:.4f}\")\n",
    "print(f\"P-value: {p_value:.4f}\")\n",
    "\n",
    "# Добавим блок с автоматической интерпретацией p-value\n",
    "\n",
    "alpha = 0.05\n",
    "if p_value < alpha:\n",
    "    print(\"Результат статистически значим: отвергаем нулевую гипотезу.\")\n",
    "    print(\"Есть основания полагать, что между переменными существует линейная связь.\")\n",
    "else:\n",
    "    print(\"Результат не является статистически значимым: не можем отвергнуть нулевую гипотезу.\")\n",
    "    print(\"Наблюдаемая линейная связь могла возникнуть случайно.\")"
   ]
  },
  {
   "cell_type": "markdown",
   "id": "3aca24c1",
   "metadata": {},
   "source": [
    "Метод корреляции Спирмена выявил статистически значимую, но слабую положительную связь.\n",
    "\n",
    "**Для углубленного анализа было принято решение отказаться от анализа \"усредненного\" клиента и перейти к сегментационному анализу, чтобы проверить гипотезу о наличии связи внутри каждой группы отдельно.**"
   ]
  },
  {
   "cell_type": "markdown",
   "id": "ec2f9b7b",
   "metadata": {},
   "source": [
    "-"
   ]
  },
  {
   "cell_type": "markdown",
   "id": "ef7534d2",
   "metadata": {},
   "source": [
    "**Блок 2. Постановка нового исследовательского вопроса и определение гипотез;**"
   ]
  },
  {
   "cell_type": "markdown",
   "id": "97f74f82",
   "metadata": {},
   "source": [
    "Рассмотрев данные датафрейма, было принято решение разделить клиентов на сегменты по количеству совершенных за период заказов. Это разделение является условным в рамках данного учебного проекта, т.к. исходный датафрейм содержит недостаточно данных для более \"подробной\" сегментации.\n",
    "\n",
    "***Исследовательский вопрос:*** есть ли связь между интегральным индексом удовлетворенности (overall_satisfaction_index), агрегирующим оценки по трем аспектам с равными весами, и уровнем удовлетворенности satisfaction_level внутри групп?\n",
    "    \n",
    "***Подход:*** для ответа на этот вопрос были построены диаграммы рассеяния (scatter plot) для каждой группы клиентов.\n",
    "    \n",
    "***Статистические гипотезы:***\n",
    "    \n",
    "**H₀:** Между overall_satisfaction_index и satisfaction_level в группах клиентов по количеству заказов отсутствует статистически значимая корреляция.\n",
    "\n",
    "**H₁:** Между overall_satisfaction_index и satisfaction_level в группах клиентов по количеству заказов существует статистически значимая положительная корреляция.\n"
   ]
  },
  {
   "cell_type": "code",
   "execution_count": 56,
   "id": "8fe95041",
   "metadata": {},
   "outputs": [
    {
     "name": "stdout",
     "output_type": "stream",
     "text": [
      "     delivery_person_ID  order_count\n",
      "0                     1            2\n",
      "1                     2            4\n",
      "2                     3            2\n",
      "3                     4            1\n",
      "4                     6            3\n",
      "..                  ...          ...\n",
      "290                 296            1\n",
      "291                 297            5\n",
      "292                 298            3\n",
      "293                 299            3\n",
      "294                 300            5\n",
      "\n",
      "[295 rows x 2 columns]\n"
     ]
    }
   ],
   "source": [
    "#посчитаем количество заказов каждого клиента\n",
    "\n",
    "orders_per_user_df = delivery_df.groupby('delivery_person_ID').size().reset_index(name='order_count')\n",
    "print(orders_per_user_df)"
   ]
  },
  {
   "cell_type": "code",
   "execution_count": 57,
   "id": "899ab769",
   "metadata": {},
   "outputs": [
    {
     "name": "stdout",
     "output_type": "stream",
     "text": [
      "Максимальное количество заказов равно 9\n"
     ]
    }
   ],
   "source": [
    "#определим максимально число заказов\n",
    "\n",
    "max_orders=orders_per_user_df['order_count'].max()\n",
    "print(f'Максимальное количество заказов равно {max_orders}')"
   ]
  },
  {
   "cell_type": "markdown",
   "id": "ed8fdf38",
   "metadata": {},
   "source": [
    "**Разделим клиентов на группы по количеству заказов следующим образом:**\n",
    "- 1-3 заказа - \"новички\";\n",
    "- 4-6 заказов - \"активные\";\n",
    "- 6-9 заказов - \"лояльные\";"
   ]
  },
  {
   "cell_type": "code",
   "execution_count": 58,
   "id": "cb29625e",
   "metadata": {},
   "outputs": [
    {
     "name": "stdout",
     "output_type": "stream",
     "text": [
      "     delivery_time_min  food_quality  delivery_speed_rating  \\\n",
      "0                   44             5                      3   \n",
      "1                   38             5                      4   \n",
      "2                   46             4                      4   \n",
      "3                   55             3                      1   \n",
      "4                   37             5                      2   \n",
      "..                 ...           ...                    ...   \n",
      "995                 37             4                      3   \n",
      "996                 57             5                      2   \n",
      "997                 46             4                      1   \n",
      "998                 34             5                      1   \n",
      "999                 45             5                      1   \n",
      "\n",
      "     packaging_quality_rating  courier_politeness_rating  satisfaction_level  \\\n",
      "0                           3                          1                   5   \n",
      "1                           4                          5                   2   \n",
      "2                           3                          2                   4   \n",
      "3                           4                          4                   3   \n",
      "4                           2                          3                   4   \n",
      "..                        ...                        ...                 ...   \n",
      "995                         4                          2                   2   \n",
      "996                         5                          1                   5   \n",
      "997                         2                          3                   4   \n",
      "998                         2                          1                   5   \n",
      "999                         2                          2                   4   \n",
      "\n",
      "     price_satisfaction  delivery_person_ID  Restaurant_latitude  \\\n",
      "0                     4                 117            55.706858   \n",
      "1                     4                 164            55.809104   \n",
      "2                     4                 288            55.768035   \n",
      "3                     3                  28            55.715939   \n",
      "4                     4                   1            55.726075   \n",
      "..                  ...                 ...                  ...   \n",
      "995                   3                 145            55.820656   \n",
      "996                   4                  86            55.799137   \n",
      "997                   4                 153            55.634016   \n",
      "998                   3                   2            55.816185   \n",
      "999                   3                 260            55.750092   \n",
      "\n",
      "     Restaurant_longitude  Delivery_location_latitude  \\\n",
      "0               37.757640                   55.708540   \n",
      "1               37.767948                   55.825865   \n",
      "2               37.422063                   55.784031   \n",
      "3               37.728257                   55.713865   \n",
      "4               37.415079                   55.717051   \n",
      "..                    ...                         ...   \n",
      "995             37.468212                   55.833967   \n",
      "996             37.758968                   55.782028   \n",
      "997             37.662458                   55.641644   \n",
      "998             37.752742                   55.817546   \n",
      "999             37.594112                   55.745258   \n",
      "\n",
      "     Delivery_location_longitude  order_price  delivery_subindex  \\\n",
      "0                      37.751251  1470.529899           2.333333   \n",
      "1                      37.772782   840.479761           4.333333   \n",
      "2                      37.437702  1066.118685           3.000000   \n",
      "3                      37.728104   891.066112           3.000000   \n",
      "4                      37.428068  1331.031279           2.333333   \n",
      "..                           ...          ...                ...   \n",
      "995                    37.452927   829.941938           3.000000   \n",
      "996                    37.777298  1367.434438           2.666667   \n",
      "997                    37.646099   576.218432           2.000000   \n",
      "998                    37.741983  1450.947070           1.333333   \n",
      "999                    37.575975  1229.266422           1.666667   \n",
      "\n",
      "     price_subindex  food_subindex  overall_satisfaction_index  order_count  \n",
      "0                 4              5                        3.74            2  \n",
      "1                 4              5                        4.40            4  \n",
      "2                 4              4                        3.63            4  \n",
      "3                 3              3                        2.97            2  \n",
      "4                 4              5                        3.74            2  \n",
      "..              ...            ...                         ...          ...  \n",
      "995               3              4                        3.30            4  \n",
      "996               4              5                        3.85            5  \n",
      "997               4              4                        3.30            5  \n",
      "998               3              5                        3.08            4  \n",
      "999               3              5                        3.19            3  \n",
      "\n",
      "[1000 rows x 18 columns]\n"
     ]
    }
   ],
   "source": [
    "#добавим в датафрейм delivery_merged столбец из датафрейма orders_per_user_df по столбцу delivery_person_ID\n",
    "\n",
    "delivery_merged = pd.merge(delivery_df, orders_per_user_df, on='delivery_person_ID', how='left')\n",
    "print(delivery_merged)"
   ]
  },
  {
   "cell_type": "code",
   "execution_count": 59,
   "id": "5a087d40",
   "metadata": {
    "scrolled": false
   },
   "outputs": [
    {
     "data": {
      "text/html": [
       "<div>\n",
       "<style scoped>\n",
       "    .dataframe tbody tr th:only-of-type {\n",
       "        vertical-align: middle;\n",
       "    }\n",
       "\n",
       "    .dataframe tbody tr th {\n",
       "        vertical-align: top;\n",
       "    }\n",
       "\n",
       "    .dataframe thead th {\n",
       "        text-align: right;\n",
       "    }\n",
       "</style>\n",
       "<table border=\"1\" class=\"dataframe\">\n",
       "  <thead>\n",
       "    <tr style=\"text-align: right;\">\n",
       "      <th></th>\n",
       "      <th>delivery_time_min</th>\n",
       "      <th>food_quality</th>\n",
       "      <th>delivery_speed_rating</th>\n",
       "      <th>packaging_quality_rating</th>\n",
       "      <th>courier_politeness_rating</th>\n",
       "      <th>satisfaction_level</th>\n",
       "      <th>price_satisfaction</th>\n",
       "      <th>delivery_person_ID</th>\n",
       "      <th>Restaurant_latitude</th>\n",
       "      <th>Restaurant_longitude</th>\n",
       "      <th>Delivery_location_latitude</th>\n",
       "      <th>Delivery_location_longitude</th>\n",
       "      <th>order_price</th>\n",
       "      <th>delivery_subindex</th>\n",
       "      <th>price_subindex</th>\n",
       "      <th>food_subindex</th>\n",
       "      <th>overall_satisfaction_index</th>\n",
       "      <th>order_count</th>\n",
       "    </tr>\n",
       "  </thead>\n",
       "  <tbody>\n",
       "    <tr>\n",
       "      <th>0</th>\n",
       "      <td>44</td>\n",
       "      <td>5</td>\n",
       "      <td>3</td>\n",
       "      <td>3</td>\n",
       "      <td>1</td>\n",
       "      <td>5</td>\n",
       "      <td>4</td>\n",
       "      <td>117</td>\n",
       "      <td>55.706858</td>\n",
       "      <td>37.757640</td>\n",
       "      <td>55.708540</td>\n",
       "      <td>37.751251</td>\n",
       "      <td>1470.529899</td>\n",
       "      <td>2.333333</td>\n",
       "      <td>4</td>\n",
       "      <td>5</td>\n",
       "      <td>3.74</td>\n",
       "      <td>2</td>\n",
       "    </tr>\n",
       "    <tr>\n",
       "      <th>3</th>\n",
       "      <td>55</td>\n",
       "      <td>3</td>\n",
       "      <td>1</td>\n",
       "      <td>4</td>\n",
       "      <td>4</td>\n",
       "      <td>3</td>\n",
       "      <td>3</td>\n",
       "      <td>28</td>\n",
       "      <td>55.715939</td>\n",
       "      <td>37.728257</td>\n",
       "      <td>55.713865</td>\n",
       "      <td>37.728104</td>\n",
       "      <td>891.066112</td>\n",
       "      <td>3.000000</td>\n",
       "      <td>3</td>\n",
       "      <td>3</td>\n",
       "      <td>2.97</td>\n",
       "      <td>2</td>\n",
       "    </tr>\n",
       "    <tr>\n",
       "      <th>4</th>\n",
       "      <td>37</td>\n",
       "      <td>5</td>\n",
       "      <td>2</td>\n",
       "      <td>2</td>\n",
       "      <td>3</td>\n",
       "      <td>4</td>\n",
       "      <td>4</td>\n",
       "      <td>1</td>\n",
       "      <td>55.726075</td>\n",
       "      <td>37.415079</td>\n",
       "      <td>55.717051</td>\n",
       "      <td>37.428068</td>\n",
       "      <td>1331.031279</td>\n",
       "      <td>2.333333</td>\n",
       "      <td>4</td>\n",
       "      <td>5</td>\n",
       "      <td>3.74</td>\n",
       "      <td>2</td>\n",
       "    </tr>\n",
       "    <tr>\n",
       "      <th>6</th>\n",
       "      <td>55</td>\n",
       "      <td>5</td>\n",
       "      <td>5</td>\n",
       "      <td>4</td>\n",
       "      <td>2</td>\n",
       "      <td>5</td>\n",
       "      <td>5</td>\n",
       "      <td>56</td>\n",
       "      <td>55.601759</td>\n",
       "      <td>37.616920</td>\n",
       "      <td>55.597270</td>\n",
       "      <td>37.601016</td>\n",
       "      <td>905.111647</td>\n",
       "      <td>3.666667</td>\n",
       "      <td>5</td>\n",
       "      <td>5</td>\n",
       "      <td>4.51</td>\n",
       "      <td>2</td>\n",
       "    </tr>\n",
       "    <tr>\n",
       "      <th>7</th>\n",
       "      <td>47</td>\n",
       "      <td>4</td>\n",
       "      <td>1</td>\n",
       "      <td>1</td>\n",
       "      <td>3</td>\n",
       "      <td>5</td>\n",
       "      <td>3</td>\n",
       "      <td>35</td>\n",
       "      <td>55.623553</td>\n",
       "      <td>37.459240</td>\n",
       "      <td>55.615028</td>\n",
       "      <td>37.441701</td>\n",
       "      <td>948.563444</td>\n",
       "      <td>1.666667</td>\n",
       "      <td>3</td>\n",
       "      <td>4</td>\n",
       "      <td>2.86</td>\n",
       "      <td>2</td>\n",
       "    </tr>\n",
       "    <tr>\n",
       "      <th>...</th>\n",
       "      <td>...</td>\n",
       "      <td>...</td>\n",
       "      <td>...</td>\n",
       "      <td>...</td>\n",
       "      <td>...</td>\n",
       "      <td>...</td>\n",
       "      <td>...</td>\n",
       "      <td>...</td>\n",
       "      <td>...</td>\n",
       "      <td>...</td>\n",
       "      <td>...</td>\n",
       "      <td>...</td>\n",
       "      <td>...</td>\n",
       "      <td>...</td>\n",
       "      <td>...</td>\n",
       "      <td>...</td>\n",
       "      <td>...</td>\n",
       "      <td>...</td>\n",
       "    </tr>\n",
       "    <tr>\n",
       "      <th>986</th>\n",
       "      <td>55</td>\n",
       "      <td>4</td>\n",
       "      <td>4</td>\n",
       "      <td>5</td>\n",
       "      <td>1</td>\n",
       "      <td>5</td>\n",
       "      <td>4</td>\n",
       "      <td>18</td>\n",
       "      <td>55.722678</td>\n",
       "      <td>37.436415</td>\n",
       "      <td>55.740529</td>\n",
       "      <td>37.432490</td>\n",
       "      <td>858.781918</td>\n",
       "      <td>3.333333</td>\n",
       "      <td>4</td>\n",
       "      <td>4</td>\n",
       "      <td>3.74</td>\n",
       "      <td>3</td>\n",
       "    </tr>\n",
       "    <tr>\n",
       "      <th>987</th>\n",
       "      <td>48</td>\n",
       "      <td>5</td>\n",
       "      <td>4</td>\n",
       "      <td>4</td>\n",
       "      <td>5</td>\n",
       "      <td>2</td>\n",
       "      <td>2</td>\n",
       "      <td>10</td>\n",
       "      <td>55.798591</td>\n",
       "      <td>37.659284</td>\n",
       "      <td>55.807925</td>\n",
       "      <td>37.662312</td>\n",
       "      <td>1402.013789</td>\n",
       "      <td>4.333333</td>\n",
       "      <td>2</td>\n",
       "      <td>5</td>\n",
       "      <td>3.74</td>\n",
       "      <td>2</td>\n",
       "    </tr>\n",
       "    <tr>\n",
       "      <th>991</th>\n",
       "      <td>19</td>\n",
       "      <td>4</td>\n",
       "      <td>2</td>\n",
       "      <td>5</td>\n",
       "      <td>5</td>\n",
       "      <td>4</td>\n",
       "      <td>5</td>\n",
       "      <td>195</td>\n",
       "      <td>55.656590</td>\n",
       "      <td>37.426837</td>\n",
       "      <td>55.640866</td>\n",
       "      <td>37.411030</td>\n",
       "      <td>1138.208006</td>\n",
       "      <td>4.000000</td>\n",
       "      <td>5</td>\n",
       "      <td>4</td>\n",
       "      <td>4.29</td>\n",
       "      <td>3</td>\n",
       "    </tr>\n",
       "    <tr>\n",
       "      <th>993</th>\n",
       "      <td>33</td>\n",
       "      <td>5</td>\n",
       "      <td>2</td>\n",
       "      <td>5</td>\n",
       "      <td>5</td>\n",
       "      <td>3</td>\n",
       "      <td>5</td>\n",
       "      <td>287</td>\n",
       "      <td>55.758575</td>\n",
       "      <td>37.708813</td>\n",
       "      <td>55.766459</td>\n",
       "      <td>37.701203</td>\n",
       "      <td>770.323025</td>\n",
       "      <td>4.000000</td>\n",
       "      <td>5</td>\n",
       "      <td>5</td>\n",
       "      <td>4.62</td>\n",
       "      <td>3</td>\n",
       "    </tr>\n",
       "    <tr>\n",
       "      <th>999</th>\n",
       "      <td>45</td>\n",
       "      <td>5</td>\n",
       "      <td>1</td>\n",
       "      <td>2</td>\n",
       "      <td>2</td>\n",
       "      <td>4</td>\n",
       "      <td>3</td>\n",
       "      <td>260</td>\n",
       "      <td>55.750092</td>\n",
       "      <td>37.594112</td>\n",
       "      <td>55.745258</td>\n",
       "      <td>37.575975</td>\n",
       "      <td>1229.266422</td>\n",
       "      <td>1.666667</td>\n",
       "      <td>3</td>\n",
       "      <td>5</td>\n",
       "      <td>3.19</td>\n",
       "      <td>3</td>\n",
       "    </tr>\n",
       "  </tbody>\n",
       "</table>\n",
       "<p>370 rows × 18 columns</p>\n",
       "</div>"
      ],
      "text/plain": [
       "     delivery_time_min  food_quality  delivery_speed_rating  \\\n",
       "0                   44             5                      3   \n",
       "3                   55             3                      1   \n",
       "4                   37             5                      2   \n",
       "6                   55             5                      5   \n",
       "7                   47             4                      1   \n",
       "..                 ...           ...                    ...   \n",
       "986                 55             4                      4   \n",
       "987                 48             5                      4   \n",
       "991                 19             4                      2   \n",
       "993                 33             5                      2   \n",
       "999                 45             5                      1   \n",
       "\n",
       "     packaging_quality_rating  courier_politeness_rating  satisfaction_level  \\\n",
       "0                           3                          1                   5   \n",
       "3                           4                          4                   3   \n",
       "4                           2                          3                   4   \n",
       "6                           4                          2                   5   \n",
       "7                           1                          3                   5   \n",
       "..                        ...                        ...                 ...   \n",
       "986                         5                          1                   5   \n",
       "987                         4                          5                   2   \n",
       "991                         5                          5                   4   \n",
       "993                         5                          5                   3   \n",
       "999                         2                          2                   4   \n",
       "\n",
       "     price_satisfaction  delivery_person_ID  Restaurant_latitude  \\\n",
       "0                     4                 117            55.706858   \n",
       "3                     3                  28            55.715939   \n",
       "4                     4                   1            55.726075   \n",
       "6                     5                  56            55.601759   \n",
       "7                     3                  35            55.623553   \n",
       "..                  ...                 ...                  ...   \n",
       "986                   4                  18            55.722678   \n",
       "987                   2                  10            55.798591   \n",
       "991                   5                 195            55.656590   \n",
       "993                   5                 287            55.758575   \n",
       "999                   3                 260            55.750092   \n",
       "\n",
       "     Restaurant_longitude  Delivery_location_latitude  \\\n",
       "0               37.757640                   55.708540   \n",
       "3               37.728257                   55.713865   \n",
       "4               37.415079                   55.717051   \n",
       "6               37.616920                   55.597270   \n",
       "7               37.459240                   55.615028   \n",
       "..                    ...                         ...   \n",
       "986             37.436415                   55.740529   \n",
       "987             37.659284                   55.807925   \n",
       "991             37.426837                   55.640866   \n",
       "993             37.708813                   55.766459   \n",
       "999             37.594112                   55.745258   \n",
       "\n",
       "     Delivery_location_longitude  order_price  delivery_subindex  \\\n",
       "0                      37.751251  1470.529899           2.333333   \n",
       "3                      37.728104   891.066112           3.000000   \n",
       "4                      37.428068  1331.031279           2.333333   \n",
       "6                      37.601016   905.111647           3.666667   \n",
       "7                      37.441701   948.563444           1.666667   \n",
       "..                           ...          ...                ...   \n",
       "986                    37.432490   858.781918           3.333333   \n",
       "987                    37.662312  1402.013789           4.333333   \n",
       "991                    37.411030  1138.208006           4.000000   \n",
       "993                    37.701203   770.323025           4.000000   \n",
       "999                    37.575975  1229.266422           1.666667   \n",
       "\n",
       "     price_subindex  food_subindex  overall_satisfaction_index  order_count  \n",
       "0                 4              5                        3.74            2  \n",
       "3                 3              3                        2.97            2  \n",
       "4                 4              5                        3.74            2  \n",
       "6                 5              5                        4.51            2  \n",
       "7                 3              4                        2.86            2  \n",
       "..              ...            ...                         ...          ...  \n",
       "986               4              4                        3.74            3  \n",
       "987               2              5                        3.74            2  \n",
       "991               5              4                        4.29            3  \n",
       "993               5              5                        4.62            3  \n",
       "999               3              5                        3.19            3  \n",
       "\n",
       "[370 rows x 18 columns]"
      ]
     },
     "execution_count": 59,
     "metadata": {},
     "output_type": "execute_result"
    }
   ],
   "source": [
    "#отфильтруем датафрейм delivery_merged, оставив только клиентов из категории \"новички\", и сохраним в новый df\n",
    "\n",
    "delivery_filtered_new=delivery_merged[delivery_merged['order_count'] <= 3]\n",
    "delivery_filtered_new"
   ]
  },
  {
   "cell_type": "code",
   "execution_count": 60,
   "id": "89e04752",
   "metadata": {},
   "outputs": [
    {
     "data": {
      "image/png": "[encoded data removed]",
      "text/plain": [
       "<Figure size 720x432 with 1 Axes>"
      ]
     },
     "metadata": {
      "needs_background": "light"
     },
     "output_type": "display_data"
    }
   ],
   "source": [
    "# диаграмма рассеяния (scatter plot)\n",
    "\n",
    "plt.figure(figsize=(10, 6))\n",
    "sns.scatterplot(x='overall_satisfaction_index', y='satisfaction_level', data=delivery_filtered_new)\n",
    "\n",
    "sns.regplot(x='overall_satisfaction_index', y='satisfaction_level', data=delivery_filtered_new, scatter=False, color='red')\n",
    "\n",
    "plt.title('Диаграмма рассеяния для индекса и общей оценки удовлетворенности')\n",
    "plt.xlabel('Интегральный индекс удовлетворенности (Overall Satisfaction Index)')\n",
    "plt.ylabel('Общая оценка удовлетворенности (Satisfaction Level)')\n",
    "plt.grid(True)\n",
    "plt.show()"
   ]
  },
  {
   "cell_type": "markdown",
   "id": "ec73c01a",
   "metadata": {},
   "source": [
    "**Вывод по графику:**\n",
    "\n",
    "- линия регрессии на диаграмме имеет незначительный положительный наклон - в сочетании с широким доверительным интервалом это может говорить о том, что данная тенденция не является статистически значимой и, скорее всего, объясняется случайностью. Результат требует дополнительной проверки;"
   ]
  },
  {
   "cell_type": "markdown",
   "id": "04cc3b33",
   "metadata": {},
   "source": [
    "**Произведем расчет корреляции Спирмена и p-value:**"
   ]
  },
  {
   "cell_type": "code",
   "execution_count": 61,
   "id": "be280e25",
   "metadata": {},
   "outputs": [
    {
     "name": "stdout",
     "output_type": "stream",
     "text": [
      "Коэффициент корреляции Спирмена (r): 0.0435\n",
      "P-value: 0.4045\n",
      "Результат не является статистически значимым: не можем отвергнуть нулевую гипотезу.\n",
      "Наблюдаемая линейная связь могла возникнуть случайно.\n"
     ]
    }
   ],
   "source": [
    "x = delivery_filtered_new['overall_satisfaction_index']\n",
    "y = delivery_filtered_new['satisfaction_level']\n",
    "\n",
    "corr_coef, p_value = spearmanr(x, y)\n",
    "\n",
    "print(f\"Коэффициент корреляции Спирмена (r): {corr_coef:.4f}\")\n",
    "print(f\"P-value: {p_value:.4f}\")\n",
    "\n",
    "# Добавим блок с автоматической интерпретацией p-value\n",
    "\n",
    "alpha = 0.05\n",
    "if p_value < alpha:\n",
    "    print(\"Результат статистически значим: отвергаем нулевую гипотезу.\")\n",
    "    print(\"Есть основания полагать, что между переменными существует линейная связь.\")\n",
    "else:\n",
    "    print(\"Результат не является статистически значимым: не можем отвергнуть нулевую гипотезу.\")\n",
    "    print(\"Наблюдаемая линейная связь могла возникнуть случайно.\")"
   ]
  },
  {
   "cell_type": "markdown",
   "id": "432732ec",
   "metadata": {},
   "source": [
    "**Интерпретация:** корреляционный анализ Спирмена не выявил статистически значимой связи, что подтверждает результаты визуального анализа графика scatter plot."
   ]
  },
  {
   "cell_type": "code",
   "execution_count": 62,
   "id": "c4b43505",
   "metadata": {},
   "outputs": [
    {
     "data": {
      "text/html": [
       "<div>\n",
       "<style scoped>\n",
       "    .dataframe tbody tr th:only-of-type {\n",
       "        vertical-align: middle;\n",
       "    }\n",
       "\n",
       "    .dataframe tbody tr th {\n",
       "        vertical-align: top;\n",
       "    }\n",
       "\n",
       "    .dataframe thead th {\n",
       "        text-align: right;\n",
       "    }\n",
       "</style>\n",
       "<table border=\"1\" class=\"dataframe\">\n",
       "  <thead>\n",
       "    <tr style=\"text-align: right;\">\n",
       "      <th></th>\n",
       "      <th>delivery_time_min</th>\n",
       "      <th>food_quality</th>\n",
       "      <th>delivery_speed_rating</th>\n",
       "      <th>packaging_quality_rating</th>\n",
       "      <th>courier_politeness_rating</th>\n",
       "      <th>satisfaction_level</th>\n",
       "      <th>price_satisfaction</th>\n",
       "      <th>delivery_person_ID</th>\n",
       "      <th>Restaurant_latitude</th>\n",
       "      <th>Restaurant_longitude</th>\n",
       "      <th>Delivery_location_latitude</th>\n",
       "      <th>Delivery_location_longitude</th>\n",
       "      <th>order_price</th>\n",
       "      <th>delivery_subindex</th>\n",
       "      <th>price_subindex</th>\n",
       "      <th>food_subindex</th>\n",
       "      <th>overall_satisfaction_index</th>\n",
       "      <th>order_count</th>\n",
       "    </tr>\n",
       "  </thead>\n",
       "  <tbody>\n",
       "    <tr>\n",
       "      <th>1</th>\n",
       "      <td>38</td>\n",
       "      <td>5</td>\n",
       "      <td>4</td>\n",
       "      <td>4</td>\n",
       "      <td>5</td>\n",
       "      <td>2</td>\n",
       "      <td>4</td>\n",
       "      <td>164</td>\n",
       "      <td>55.809104</td>\n",
       "      <td>37.767948</td>\n",
       "      <td>55.825865</td>\n",
       "      <td>37.772782</td>\n",
       "      <td>840.479761</td>\n",
       "      <td>4.333333</td>\n",
       "      <td>4</td>\n",
       "      <td>5</td>\n",
       "      <td>4.40</td>\n",
       "      <td>4</td>\n",
       "    </tr>\n",
       "    <tr>\n",
       "      <th>2</th>\n",
       "      <td>46</td>\n",
       "      <td>4</td>\n",
       "      <td>4</td>\n",
       "      <td>3</td>\n",
       "      <td>2</td>\n",
       "      <td>4</td>\n",
       "      <td>4</td>\n",
       "      <td>288</td>\n",
       "      <td>55.768035</td>\n",
       "      <td>37.422063</td>\n",
       "      <td>55.784031</td>\n",
       "      <td>37.437702</td>\n",
       "      <td>1066.118685</td>\n",
       "      <td>3.000000</td>\n",
       "      <td>4</td>\n",
       "      <td>4</td>\n",
       "      <td>3.63</td>\n",
       "      <td>4</td>\n",
       "    </tr>\n",
       "    <tr>\n",
       "      <th>5</th>\n",
       "      <td>37</td>\n",
       "      <td>2</td>\n",
       "      <td>5</td>\n",
       "      <td>5</td>\n",
       "      <td>3</td>\n",
       "      <td>3</td>\n",
       "      <td>2</td>\n",
       "      <td>188</td>\n",
       "      <td>55.768633</td>\n",
       "      <td>37.546868</td>\n",
       "      <td>55.764360</td>\n",
       "      <td>37.542954</td>\n",
       "      <td>1238.273694</td>\n",
       "      <td>4.333333</td>\n",
       "      <td>2</td>\n",
       "      <td>2</td>\n",
       "      <td>2.75</td>\n",
       "      <td>6</td>\n",
       "    </tr>\n",
       "    <tr>\n",
       "      <th>12</th>\n",
       "      <td>42</td>\n",
       "      <td>4</td>\n",
       "      <td>5</td>\n",
       "      <td>5</td>\n",
       "      <td>1</td>\n",
       "      <td>5</td>\n",
       "      <td>5</td>\n",
       "      <td>80</td>\n",
       "      <td>55.681205</td>\n",
       "      <td>37.685755</td>\n",
       "      <td>55.668118</td>\n",
       "      <td>37.695468</td>\n",
       "      <td>696.359643</td>\n",
       "      <td>3.666667</td>\n",
       "      <td>5</td>\n",
       "      <td>4</td>\n",
       "      <td>4.18</td>\n",
       "      <td>4</td>\n",
       "    </tr>\n",
       "    <tr>\n",
       "      <th>13</th>\n",
       "      <td>20</td>\n",
       "      <td>3</td>\n",
       "      <td>1</td>\n",
       "      <td>3</td>\n",
       "      <td>1</td>\n",
       "      <td>4</td>\n",
       "      <td>1</td>\n",
       "      <td>83</td>\n",
       "      <td>55.711147</td>\n",
       "      <td>37.766657</td>\n",
       "      <td>55.704928</td>\n",
       "      <td>37.748691</td>\n",
       "      <td>1410.021995</td>\n",
       "      <td>1.666667</td>\n",
       "      <td>1</td>\n",
       "      <td>3</td>\n",
       "      <td>1.87</td>\n",
       "      <td>5</td>\n",
       "    </tr>\n",
       "    <tr>\n",
       "      <th>...</th>\n",
       "      <td>...</td>\n",
       "      <td>...</td>\n",
       "      <td>...</td>\n",
       "      <td>...</td>\n",
       "      <td>...</td>\n",
       "      <td>...</td>\n",
       "      <td>...</td>\n",
       "      <td>...</td>\n",
       "      <td>...</td>\n",
       "      <td>...</td>\n",
       "      <td>...</td>\n",
       "      <td>...</td>\n",
       "      <td>...</td>\n",
       "      <td>...</td>\n",
       "      <td>...</td>\n",
       "      <td>...</td>\n",
       "      <td>...</td>\n",
       "      <td>...</td>\n",
       "    </tr>\n",
       "    <tr>\n",
       "      <th>994</th>\n",
       "      <td>29</td>\n",
       "      <td>4</td>\n",
       "      <td>3</td>\n",
       "      <td>4</td>\n",
       "      <td>2</td>\n",
       "      <td>5</td>\n",
       "      <td>4</td>\n",
       "      <td>93</td>\n",
       "      <td>55.843181</td>\n",
       "      <td>37.731285</td>\n",
       "      <td>55.846654</td>\n",
       "      <td>37.750137</td>\n",
       "      <td>1117.593921</td>\n",
       "      <td>3.000000</td>\n",
       "      <td>4</td>\n",
       "      <td>4</td>\n",
       "      <td>3.63</td>\n",
       "      <td>6</td>\n",
       "    </tr>\n",
       "    <tr>\n",
       "      <th>995</th>\n",
       "      <td>37</td>\n",
       "      <td>4</td>\n",
       "      <td>3</td>\n",
       "      <td>4</td>\n",
       "      <td>2</td>\n",
       "      <td>2</td>\n",
       "      <td>3</td>\n",
       "      <td>145</td>\n",
       "      <td>55.820656</td>\n",
       "      <td>37.468212</td>\n",
       "      <td>55.833967</td>\n",
       "      <td>37.452927</td>\n",
       "      <td>829.941938</td>\n",
       "      <td>3.000000</td>\n",
       "      <td>3</td>\n",
       "      <td>4</td>\n",
       "      <td>3.30</td>\n",
       "      <td>4</td>\n",
       "    </tr>\n",
       "    <tr>\n",
       "      <th>996</th>\n",
       "      <td>57</td>\n",
       "      <td>5</td>\n",
       "      <td>2</td>\n",
       "      <td>5</td>\n",
       "      <td>1</td>\n",
       "      <td>5</td>\n",
       "      <td>4</td>\n",
       "      <td>86</td>\n",
       "      <td>55.799137</td>\n",
       "      <td>37.758968</td>\n",
       "      <td>55.782028</td>\n",
       "      <td>37.777298</td>\n",
       "      <td>1367.434438</td>\n",
       "      <td>2.666667</td>\n",
       "      <td>4</td>\n",
       "      <td>5</td>\n",
       "      <td>3.85</td>\n",
       "      <td>5</td>\n",
       "    </tr>\n",
       "    <tr>\n",
       "      <th>997</th>\n",
       "      <td>46</td>\n",
       "      <td>4</td>\n",
       "      <td>1</td>\n",
       "      <td>2</td>\n",
       "      <td>3</td>\n",
       "      <td>4</td>\n",
       "      <td>4</td>\n",
       "      <td>153</td>\n",
       "      <td>55.634016</td>\n",
       "      <td>37.662458</td>\n",
       "      <td>55.641644</td>\n",
       "      <td>37.646099</td>\n",
       "      <td>576.218432</td>\n",
       "      <td>2.000000</td>\n",
       "      <td>4</td>\n",
       "      <td>4</td>\n",
       "      <td>3.30</td>\n",
       "      <td>5</td>\n",
       "    </tr>\n",
       "    <tr>\n",
       "      <th>998</th>\n",
       "      <td>34</td>\n",
       "      <td>5</td>\n",
       "      <td>1</td>\n",
       "      <td>2</td>\n",
       "      <td>1</td>\n",
       "      <td>5</td>\n",
       "      <td>3</td>\n",
       "      <td>2</td>\n",
       "      <td>55.816185</td>\n",
       "      <td>37.752742</td>\n",
       "      <td>55.817546</td>\n",
       "      <td>37.741983</td>\n",
       "      <td>1450.947070</td>\n",
       "      <td>1.333333</td>\n",
       "      <td>3</td>\n",
       "      <td>5</td>\n",
       "      <td>3.08</td>\n",
       "      <td>4</td>\n",
       "    </tr>\n",
       "  </tbody>\n",
       "</table>\n",
       "<p>522 rows × 18 columns</p>\n",
       "</div>"
      ],
      "text/plain": [
       "     delivery_time_min  food_quality  delivery_speed_rating  \\\n",
       "1                   38             5                      4   \n",
       "2                   46             4                      4   \n",
       "5                   37             2                      5   \n",
       "12                  42             4                      5   \n",
       "13                  20             3                      1   \n",
       "..                 ...           ...                    ...   \n",
       "994                 29             4                      3   \n",
       "995                 37             4                      3   \n",
       "996                 57             5                      2   \n",
       "997                 46             4                      1   \n",
       "998                 34             5                      1   \n",
       "\n",
       "     packaging_quality_rating  courier_politeness_rating  satisfaction_level  \\\n",
       "1                           4                          5                   2   \n",
       "2                           3                          2                   4   \n",
       "5                           5                          3                   3   \n",
       "12                          5                          1                   5   \n",
       "13                          3                          1                   4   \n",
       "..                        ...                        ...                 ...   \n",
       "994                         4                          2                   5   \n",
       "995                         4                          2                   2   \n",
       "996                         5                          1                   5   \n",
       "997                         2                          3                   4   \n",
       "998                         2                          1                   5   \n",
       "\n",
       "     price_satisfaction  delivery_person_ID  Restaurant_latitude  \\\n",
       "1                     4                 164            55.809104   \n",
       "2                     4                 288            55.768035   \n",
       "5                     2                 188            55.768633   \n",
       "12                    5                  80            55.681205   \n",
       "13                    1                  83            55.711147   \n",
       "..                  ...                 ...                  ...   \n",
       "994                   4                  93            55.843181   \n",
       "995                   3                 145            55.820656   \n",
       "996                   4                  86            55.799137   \n",
       "997                   4                 153            55.634016   \n",
       "998                   3                   2            55.816185   \n",
       "\n",
       "     Restaurant_longitude  Delivery_location_latitude  \\\n",
       "1               37.767948                   55.825865   \n",
       "2               37.422063                   55.784031   \n",
       "5               37.546868                   55.764360   \n",
       "12              37.685755                   55.668118   \n",
       "13              37.766657                   55.704928   \n",
       "..                    ...                         ...   \n",
       "994             37.731285                   55.846654   \n",
       "995             37.468212                   55.833967   \n",
       "996             37.758968                   55.782028   \n",
       "997             37.662458                   55.641644   \n",
       "998             37.752742                   55.817546   \n",
       "\n",
       "     Delivery_location_longitude  order_price  delivery_subindex  \\\n",
       "1                      37.772782   840.479761           4.333333   \n",
       "2                      37.437702  1066.118685           3.000000   \n",
       "5                      37.542954  1238.273694           4.333333   \n",
       "12                     37.695468   696.359643           3.666667   \n",
       "13                     37.748691  1410.021995           1.666667   \n",
       "..                           ...          ...                ...   \n",
       "994                    37.750137  1117.593921           3.000000   \n",
       "995                    37.452927   829.941938           3.000000   \n",
       "996                    37.777298  1367.434438           2.666667   \n",
       "997                    37.646099   576.218432           2.000000   \n",
       "998                    37.741983  1450.947070           1.333333   \n",
       "\n",
       "     price_subindex  food_subindex  overall_satisfaction_index  order_count  \n",
       "1                 4              5                        4.40            4  \n",
       "2                 4              4                        3.63            4  \n",
       "5                 2              2                        2.75            6  \n",
       "12                5              4                        4.18            4  \n",
       "13                1              3                        1.87            5  \n",
       "..              ...            ...                         ...          ...  \n",
       "994               4              4                        3.63            6  \n",
       "995               3              4                        3.30            4  \n",
       "996               4              5                        3.85            5  \n",
       "997               4              4                        3.30            5  \n",
       "998               3              5                        3.08            4  \n",
       "\n",
       "[522 rows x 18 columns]"
      ]
     },
     "execution_count": 62,
     "metadata": {},
     "output_type": "execute_result"
    }
   ],
   "source": [
    "#отфильтруем датафрейм delivery_merged, оставив только клиентов из категории \"активные\", и сохраним в новый df\n",
    "\n",
    "delivery_filtered_active=delivery_merged[(delivery_merged['order_count']>3) & (delivery_merged['order_count']<7)]\n",
    "delivery_filtered_active"
   ]
  },
  {
   "cell_type": "code",
   "execution_count": 63,
   "id": "2c59c6a7",
   "metadata": {},
   "outputs": [
    {
     "data": {
      "image/png": "[encoded data removed]",
      "text/plain": [
       "<Figure size 720x432 with 1 Axes>"
      ]
     },
     "metadata": {
      "needs_background": "light"
     },
     "output_type": "display_data"
    }
   ],
   "source": [
    "# диаграмма рассеяния (scatter plot)\n",
    "\n",
    "plt.figure(figsize=(10, 6))\n",
    "sns.scatterplot(x='overall_satisfaction_index', y='satisfaction_level', data=delivery_filtered_active)\n",
    "\n",
    "sns.regplot(x='overall_satisfaction_index', y='satisfaction_level', data=delivery_filtered_active, scatter=False, color='red')\n",
    "\n",
    "plt.title('Диаграмма рассеяния для индекса и общей оценки удовлетворенности')\n",
    "plt.xlabel('Интегральный индекс удовлетворенности (Overall Satisfaction Index)')\n",
    "plt.ylabel('Общая оценка удовлетворенности (Satisfaction Level)')\n",
    "plt.grid(True)\n",
    "plt.show()"
   ]
  },
  {
   "cell_type": "markdown",
   "id": "2e2fb936",
   "metadata": {},
   "source": [
    "**Вывод по графику:** \n",
    "- линия регрессии имеет более выраженный наклон и, так же, как и на предыдущем графике - широкий доверительный интервал. Статистическая значимость тенденции требует уточнения;"
   ]
  },
  {
   "cell_type": "markdown",
   "id": "b2852bf0",
   "metadata": {},
   "source": [
    "**Произведем расчет корреляции Спирмена и p-value:**"
   ]
  },
  {
   "cell_type": "code",
   "execution_count": 64,
   "id": "8b92a47b",
   "metadata": {},
   "outputs": [
    {
     "name": "stdout",
     "output_type": "stream",
     "text": [
      "Коэффициент корреляции Спирмена (r): 0.1833\n",
      "P-value: 0.0000\n",
      "Результат статистически значим: отвергаем нулевую гипотезу.\n",
      "Есть основания полагать, что между переменными существует линейная связь.\n"
     ]
    }
   ],
   "source": [
    "x = delivery_filtered_active['overall_satisfaction_index']\n",
    "y = delivery_filtered_active['satisfaction_level']\n",
    "\n",
    "corr_coef, p_value = spearmanr(x, y)\n",
    "\n",
    "print(f\"Коэффициент корреляции Спирмена (r): {corr_coef:.4f}\")\n",
    "print(f\"P-value: {p_value:.4f}\")\n",
    "\n",
    "# Добавим блок с автоматической интерпретацией p-value\n",
    "\n",
    "alpha = 0.05\n",
    "if p_value < alpha:\n",
    "    print(\"Результат статистически значим: отвергаем нулевую гипотезу.\")\n",
    "    print(\"Есть основания полагать, что между переменными существует линейная связь.\")\n",
    "else:\n",
    "    print(\"Результат не является статистически значимым: не можем отвергнуть нулевую гипотезу.\")\n",
    "    print(\"Наблюдаемая линейная связь могла возникнуть случайно.\")"
   ]
  },
  {
   "cell_type": "markdown",
   "id": "315afe76",
   "metadata": {},
   "source": [
    "**Интерпретация:** корреляционный анализ Спирмена выявил статистически значимую, но слабую положительную связь - результат требует дополнительной проверки."
   ]
  },
  {
   "cell_type": "code",
   "execution_count": 65,
   "id": "97a357eb",
   "metadata": {},
   "outputs": [
    {
     "data": {
      "text/html": [
       "<div>\n",
       "<style scoped>\n",
       "    .dataframe tbody tr th:only-of-type {\n",
       "        vertical-align: middle;\n",
       "    }\n",
       "\n",
       "    .dataframe tbody tr th {\n",
       "        vertical-align: top;\n",
       "    }\n",
       "\n",
       "    .dataframe thead th {\n",
       "        text-align: right;\n",
       "    }\n",
       "</style>\n",
       "<table border=\"1\" class=\"dataframe\">\n",
       "  <thead>\n",
       "    <tr style=\"text-align: right;\">\n",
       "      <th></th>\n",
       "      <th>delivery_time_min</th>\n",
       "      <th>food_quality</th>\n",
       "      <th>delivery_speed_rating</th>\n",
       "      <th>packaging_quality_rating</th>\n",
       "      <th>courier_politeness_rating</th>\n",
       "      <th>satisfaction_level</th>\n",
       "      <th>price_satisfaction</th>\n",
       "      <th>delivery_person_ID</th>\n",
       "      <th>Restaurant_latitude</th>\n",
       "      <th>Restaurant_longitude</th>\n",
       "      <th>Delivery_location_latitude</th>\n",
       "      <th>Delivery_location_longitude</th>\n",
       "      <th>order_price</th>\n",
       "      <th>delivery_subindex</th>\n",
       "      <th>price_subindex</th>\n",
       "      <th>food_subindex</th>\n",
       "      <th>overall_satisfaction_index</th>\n",
       "      <th>order_count</th>\n",
       "    </tr>\n",
       "  </thead>\n",
       "  <tbody>\n",
       "    <tr>\n",
       "      <th>9</th>\n",
       "      <td>45</td>\n",
       "      <td>3</td>\n",
       "      <td>3</td>\n",
       "      <td>2</td>\n",
       "      <td>1</td>\n",
       "      <td>4</td>\n",
       "      <td>2</td>\n",
       "      <td>286</td>\n",
       "      <td>55.623364</td>\n",
       "      <td>37.403342</td>\n",
       "      <td>55.637806</td>\n",
       "      <td>37.398548</td>\n",
       "      <td>816.662620</td>\n",
       "      <td>2.000000</td>\n",
       "      <td>2</td>\n",
       "      <td>3</td>\n",
       "      <td>2.31</td>\n",
       "      <td>8</td>\n",
       "    </tr>\n",
       "    <tr>\n",
       "      <th>20</th>\n",
       "      <td>54</td>\n",
       "      <td>4</td>\n",
       "      <td>5</td>\n",
       "      <td>5</td>\n",
       "      <td>5</td>\n",
       "      <td>3</td>\n",
       "      <td>4</td>\n",
       "      <td>181</td>\n",
       "      <td>55.723091</td>\n",
       "      <td>37.670052</td>\n",
       "      <td>55.721904</td>\n",
       "      <td>37.682220</td>\n",
       "      <td>1164.303457</td>\n",
       "      <td>5.000000</td>\n",
       "      <td>4</td>\n",
       "      <td>4</td>\n",
       "      <td>4.29</td>\n",
       "      <td>7</td>\n",
       "    </tr>\n",
       "    <tr>\n",
       "      <th>25</th>\n",
       "      <td>41</td>\n",
       "      <td>5</td>\n",
       "      <td>5</td>\n",
       "      <td>4</td>\n",
       "      <td>4</td>\n",
       "      <td>5</td>\n",
       "      <td>5</td>\n",
       "      <td>181</td>\n",
       "      <td>55.736188</td>\n",
       "      <td>37.476807</td>\n",
       "      <td>55.750082</td>\n",
       "      <td>37.477215</td>\n",
       "      <td>1048.488809</td>\n",
       "      <td>4.333333</td>\n",
       "      <td>5</td>\n",
       "      <td>5</td>\n",
       "      <td>4.73</td>\n",
       "      <td>7</td>\n",
       "    </tr>\n",
       "    <tr>\n",
       "      <th>30</th>\n",
       "      <td>33</td>\n",
       "      <td>5</td>\n",
       "      <td>5</td>\n",
       "      <td>1</td>\n",
       "      <td>3</td>\n",
       "      <td>2</td>\n",
       "      <td>2</td>\n",
       "      <td>100</td>\n",
       "      <td>55.681695</td>\n",
       "      <td>37.796089</td>\n",
       "      <td>55.683408</td>\n",
       "      <td>37.791109</td>\n",
       "      <td>1201.226793</td>\n",
       "      <td>3.000000</td>\n",
       "      <td>2</td>\n",
       "      <td>5</td>\n",
       "      <td>3.30</td>\n",
       "      <td>7</td>\n",
       "    </tr>\n",
       "    <tr>\n",
       "      <th>32</th>\n",
       "      <td>39</td>\n",
       "      <td>4</td>\n",
       "      <td>5</td>\n",
       "      <td>4</td>\n",
       "      <td>1</td>\n",
       "      <td>5</td>\n",
       "      <td>5</td>\n",
       "      <td>103</td>\n",
       "      <td>55.675599</td>\n",
       "      <td>37.404712</td>\n",
       "      <td>55.669510</td>\n",
       "      <td>37.398437</td>\n",
       "      <td>671.233716</td>\n",
       "      <td>3.333333</td>\n",
       "      <td>5</td>\n",
       "      <td>4</td>\n",
       "      <td>4.07</td>\n",
       "      <td>7</td>\n",
       "    </tr>\n",
       "    <tr>\n",
       "      <th>...</th>\n",
       "      <td>...</td>\n",
       "      <td>...</td>\n",
       "      <td>...</td>\n",
       "      <td>...</td>\n",
       "      <td>...</td>\n",
       "      <td>...</td>\n",
       "      <td>...</td>\n",
       "      <td>...</td>\n",
       "      <td>...</td>\n",
       "      <td>...</td>\n",
       "      <td>...</td>\n",
       "      <td>...</td>\n",
       "      <td>...</td>\n",
       "      <td>...</td>\n",
       "      <td>...</td>\n",
       "      <td>...</td>\n",
       "      <td>...</td>\n",
       "      <td>...</td>\n",
       "    </tr>\n",
       "    <tr>\n",
       "      <th>968</th>\n",
       "      <td>39</td>\n",
       "      <td>4</td>\n",
       "      <td>1</td>\n",
       "      <td>5</td>\n",
       "      <td>5</td>\n",
       "      <td>4</td>\n",
       "      <td>3</td>\n",
       "      <td>26</td>\n",
       "      <td>55.750059</td>\n",
       "      <td>37.714940</td>\n",
       "      <td>55.763848</td>\n",
       "      <td>37.697105</td>\n",
       "      <td>1504.794294</td>\n",
       "      <td>3.666667</td>\n",
       "      <td>3</td>\n",
       "      <td>4</td>\n",
       "      <td>3.52</td>\n",
       "      <td>7</td>\n",
       "    </tr>\n",
       "    <tr>\n",
       "      <th>970</th>\n",
       "      <td>41</td>\n",
       "      <td>4</td>\n",
       "      <td>3</td>\n",
       "      <td>3</td>\n",
       "      <td>1</td>\n",
       "      <td>4</td>\n",
       "      <td>5</td>\n",
       "      <td>103</td>\n",
       "      <td>55.810388</td>\n",
       "      <td>37.529558</td>\n",
       "      <td>55.808022</td>\n",
       "      <td>37.526672</td>\n",
       "      <td>651.331645</td>\n",
       "      <td>2.333333</td>\n",
       "      <td>5</td>\n",
       "      <td>4</td>\n",
       "      <td>3.74</td>\n",
       "      <td>7</td>\n",
       "    </tr>\n",
       "    <tr>\n",
       "      <th>978</th>\n",
       "      <td>24</td>\n",
       "      <td>2</td>\n",
       "      <td>2</td>\n",
       "      <td>5</td>\n",
       "      <td>2</td>\n",
       "      <td>3</td>\n",
       "      <td>2</td>\n",
       "      <td>92</td>\n",
       "      <td>55.896765</td>\n",
       "      <td>37.663662</td>\n",
       "      <td>55.895527</td>\n",
       "      <td>37.674353</td>\n",
       "      <td>941.309779</td>\n",
       "      <td>3.000000</td>\n",
       "      <td>2</td>\n",
       "      <td>2</td>\n",
       "      <td>2.31</td>\n",
       "      <td>7</td>\n",
       "    </tr>\n",
       "    <tr>\n",
       "      <th>979</th>\n",
       "      <td>47</td>\n",
       "      <td>4</td>\n",
       "      <td>2</td>\n",
       "      <td>1</td>\n",
       "      <td>5</td>\n",
       "      <td>4</td>\n",
       "      <td>4</td>\n",
       "      <td>286</td>\n",
       "      <td>55.650049</td>\n",
       "      <td>37.559222</td>\n",
       "      <td>55.643414</td>\n",
       "      <td>37.575437</td>\n",
       "      <td>1025.862512</td>\n",
       "      <td>2.666667</td>\n",
       "      <td>4</td>\n",
       "      <td>4</td>\n",
       "      <td>3.52</td>\n",
       "      <td>8</td>\n",
       "    </tr>\n",
       "    <tr>\n",
       "      <th>988</th>\n",
       "      <td>37</td>\n",
       "      <td>5</td>\n",
       "      <td>3</td>\n",
       "      <td>2</td>\n",
       "      <td>4</td>\n",
       "      <td>2</td>\n",
       "      <td>4</td>\n",
       "      <td>92</td>\n",
       "      <td>55.739456</td>\n",
       "      <td>37.565278</td>\n",
       "      <td>55.744956</td>\n",
       "      <td>37.568613</td>\n",
       "      <td>1025.392485</td>\n",
       "      <td>3.000000</td>\n",
       "      <td>4</td>\n",
       "      <td>5</td>\n",
       "      <td>3.96</td>\n",
       "      <td>7</td>\n",
       "    </tr>\n",
       "  </tbody>\n",
       "</table>\n",
       "<p>108 rows × 18 columns</p>\n",
       "</div>"
      ],
      "text/plain": [
       "     delivery_time_min  food_quality  delivery_speed_rating  \\\n",
       "9                   45             3                      3   \n",
       "20                  54             4                      5   \n",
       "25                  41             5                      5   \n",
       "30                  33             5                      5   \n",
       "32                  39             4                      5   \n",
       "..                 ...           ...                    ...   \n",
       "968                 39             4                      1   \n",
       "970                 41             4                      3   \n",
       "978                 24             2                      2   \n",
       "979                 47             4                      2   \n",
       "988                 37             5                      3   \n",
       "\n",
       "     packaging_quality_rating  courier_politeness_rating  satisfaction_level  \\\n",
       "9                           2                          1                   4   \n",
       "20                          5                          5                   3   \n",
       "25                          4                          4                   5   \n",
       "30                          1                          3                   2   \n",
       "32                          4                          1                   5   \n",
       "..                        ...                        ...                 ...   \n",
       "968                         5                          5                   4   \n",
       "970                         3                          1                   4   \n",
       "978                         5                          2                   3   \n",
       "979                         1                          5                   4   \n",
       "988                         2                          4                   2   \n",
       "\n",
       "     price_satisfaction  delivery_person_ID  Restaurant_latitude  \\\n",
       "9                     2                 286            55.623364   \n",
       "20                    4                 181            55.723091   \n",
       "25                    5                 181            55.736188   \n",
       "30                    2                 100            55.681695   \n",
       "32                    5                 103            55.675599   \n",
       "..                  ...                 ...                  ...   \n",
       "968                   3                  26            55.750059   \n",
       "970                   5                 103            55.810388   \n",
       "978                   2                  92            55.896765   \n",
       "979                   4                 286            55.650049   \n",
       "988                   4                  92            55.739456   \n",
       "\n",
       "     Restaurant_longitude  Delivery_location_latitude  \\\n",
       "9               37.403342                   55.637806   \n",
       "20              37.670052                   55.721904   \n",
       "25              37.476807                   55.750082   \n",
       "30              37.796089                   55.683408   \n",
       "32              37.404712                   55.669510   \n",
       "..                    ...                         ...   \n",
       "968             37.714940                   55.763848   \n",
       "970             37.529558                   55.808022   \n",
       "978             37.663662                   55.895527   \n",
       "979             37.559222                   55.643414   \n",
       "988             37.565278                   55.744956   \n",
       "\n",
       "     Delivery_location_longitude  order_price  delivery_subindex  \\\n",
       "9                      37.398548   816.662620           2.000000   \n",
       "20                     37.682220  1164.303457           5.000000   \n",
       "25                     37.477215  1048.488809           4.333333   \n",
       "30                     37.791109  1201.226793           3.000000   \n",
       "32                     37.398437   671.233716           3.333333   \n",
       "..                           ...          ...                ...   \n",
       "968                    37.697105  1504.794294           3.666667   \n",
       "970                    37.526672   651.331645           2.333333   \n",
       "978                    37.674353   941.309779           3.000000   \n",
       "979                    37.575437  1025.862512           2.666667   \n",
       "988                    37.568613  1025.392485           3.000000   \n",
       "\n",
       "     price_subindex  food_subindex  overall_satisfaction_index  order_count  \n",
       "9                 2              3                        2.31            8  \n",
       "20                4              4                        4.29            7  \n",
       "25                5              5                        4.73            7  \n",
       "30                2              5                        3.30            7  \n",
       "32                5              4                        4.07            7  \n",
       "..              ...            ...                         ...          ...  \n",
       "968               3              4                        3.52            7  \n",
       "970               5              4                        3.74            7  \n",
       "978               2              2                        2.31            7  \n",
       "979               4              4                        3.52            8  \n",
       "988               4              5                        3.96            7  \n",
       "\n",
       "[108 rows x 18 columns]"
      ]
     },
     "execution_count": 65,
     "metadata": {},
     "output_type": "execute_result"
    }
   ],
   "source": [
    "#отфильтруем датафрейм delivery_merged, оставив только клиентов из категории \"лояльные\", и сохраним в новый df\n",
    "\n",
    "delivery_filtered_loyal=delivery_merged[delivery_merged['order_count']>=7]\n",
    "delivery_filtered_loyal"
   ]
  },
  {
   "cell_type": "code",
   "execution_count": 66,
   "id": "695056e0",
   "metadata": {},
   "outputs": [
    {
     "data": {
      "image/png": "[encoded data removed]",
      "text/plain": [
       "<Figure size 720x432 with 1 Axes>"
      ]
     },
     "metadata": {
      "needs_background": "light"
     },
     "output_type": "display_data"
    }
   ],
   "source": [
    "# диаграмма рассеяния (scatter plot)\n",
    "\n",
    "plt.figure(figsize=(10, 6))\n",
    "sns.scatterplot(x='overall_satisfaction_index', y='satisfaction_level', data=delivery_filtered_loyal)\n",
    "\n",
    "sns.regplot(x='overall_satisfaction_index', y='satisfaction_level', data=delivery_filtered_loyal, scatter=False, color='red')\n",
    "\n",
    "plt.title('Диаграмма рассеяния для индекса и общей оценки удовлетворенности')\n",
    "plt.xlabel('Интегральный индекс удовлетворенности (Overall Satisfaction Index)')\n",
    "plt.ylabel('Общая оценка удовлетворенности (Satisfaction Level)')\n",
    "plt.grid(True)\n",
    "plt.show()"
   ]
  },
  {
   "cell_type": "markdown",
   "id": "ddc0a92e",
   "metadata": {},
   "source": [
    "**Вывод по графику:**\n",
    "- линия регрессии имеет незначительный наклон и широкий доверительный интервал, что ставит под сомнение статистическую значимость полученной связи;\n",
    "- однако, широкий доверительный интервал указывает на то, что с большой долей вероятности эта тенденция не является статистически значимой и, скорее всего, объясняется случайностью\n"
   ]
  },
  {
   "cell_type": "markdown",
   "id": "4923f1ba",
   "metadata": {},
   "source": [
    "**Произведем расчет корреляции Спирмена и p-value:**"
   ]
  },
  {
   "cell_type": "code",
   "execution_count": 67,
   "id": "dbbf5ca0",
   "metadata": {},
   "outputs": [
    {
     "name": "stdout",
     "output_type": "stream",
     "text": [
      "Коэффициент корреляции Спирмена (r): 0.0308\n",
      "P-value: 0.7518\n",
      "Результат не является статистически значимым: не можем отвергнуть нулевую гипотезу.\n",
      "Наблюдаемая линейная связь могла возникнуть случайно.\n"
     ]
    }
   ],
   "source": [
    "x = delivery_filtered_loyal['overall_satisfaction_index']\n",
    "y = delivery_filtered_loyal['satisfaction_level']\n",
    "\n",
    "corr_coef, p_value = spearmanr(x, y)\n",
    "\n",
    "print(f\"Коэффициент корреляции Спирмена (r): {corr_coef:.4f}\")\n",
    "print(f\"P-value: {p_value:.4f}\")\n",
    "\n",
    "# Добавим блок с автоматической интерпретацией p-value\n",
    "\n",
    "alpha = 0.05\n",
    "if p_value < alpha:\n",
    "    print(\"Результат статистически значим: отвергаем нулевую гипотезу.\")\n",
    "    print(\"Есть основания полагать, что между переменными существует линейная связь.\")\n",
    "else:\n",
    "    print(\"Результат не является статистически значимым: не можем отвергнуть нулевую гипотезу.\")\n",
    "    print(\"Наблюдаемая линейная связь могла возникнуть случайно.\")"
   ]
  },
  {
   "cell_type": "markdown",
   "id": "052ad1d7",
   "metadata": {},
   "source": [
    "**Интерпретация:** корреляционный анализ Спирмена не выявил статистически значимой связи, что подтверждает результаты визуального анализа графика scatter plot."
   ]
  },
  {
   "cell_type": "markdown",
   "id": "5ca49013",
   "metadata": {},
   "source": [
    "**Вывод:** корреляционный анализ Спирмена выявил слабую, но статистически значимую связь между интегральным индексом удовлетворенности (overall_satisfaction_index) и общей оценкой удовлетворенности (satisfaction_level) только для клиентов категории \"активные\". Интегральный индекс в его текущем виде не является хорошим предиктором итоговой оценки, которую поставит клиент. Возможно, данная метрика \"не работает\" из-за присвоенных сабиндексам равных весов - возможно, стоит провести регрессионный анализ и повторить расчеты. Это указывает на необходимость более глубокого, сегментированного анализа для поиска истинных драйверов удовлетворенности."
   ]
  },
  {
   "cell_type": "markdown",
   "id": "4c45a069",
   "metadata": {},
   "source": [
    "**Блок 3. Исследование связи между отдельными аспектами удовлетворенности клиентов и общей оценкой удовлетворенности (satisfaction_level).**"
   ]
  },
  {
   "cell_type": "markdown",
   "id": "66cc99a1",
   "metadata": {},
   "source": [
    "***Исследовательский вопрос:*** есть ли связь между отдельными компонентами overall_satisfaction_index и общей оценкой удовлетворенности (satisfaction_level) для всей выборки?\n",
    "    \n",
    "***Подход:*** для ответа на этот вопрос был проведен корреляционный анализ Спирмена, построены диаграммы рассеяния.\n",
    "    \n",
    "***Статистические гипотезы:***\n",
    "    \n",
    "**H₀:** Между отдельными компонентами overall_satisfaction_index и satisfaction_level для всей выборки отсутствует статистически значимая корреляция.\n",
    "\n",
    "**H₁:** Между отдельными компонентами overall_satisfaction_index и satisfaction_level для всей выборки существует статистически значимая положительная корреляция.\n"
   ]
  },
  {
   "cell_type": "code",
   "execution_count": 68,
   "id": "a64c14d4",
   "metadata": {},
   "outputs": [
    {
     "data": {
      "image/png": "[encoded data removed]",
      "text/plain": [
       "<Figure size 360x360 with 1 Axes>"
      ]
     },
     "metadata": {
      "needs_background": "light"
     },
     "output_type": "display_data"
    },
    {
     "data": {
      "image/png": "[encoded data removed]",
      "text/plain": [
       "<Figure size 360x360 with 1 Axes>"
      ]
     },
     "metadata": {
      "needs_background": "light"
     },
     "output_type": "display_data"
    },
    {
     "data": {
      "image/png": "[encoded data removed]",
      "text/plain": [
       "<Figure size 360x360 with 1 Axes>"
      ]
     },
     "metadata": {
      "needs_background": "light"
     },
     "output_type": "display_data"
    }
   ],
   "source": [
    "#построим диаграммы рассеяния\n",
    "\n",
    "sns.lmplot(\n",
    "    data=delivery_merged,\n",
    "    x='delivery_subindex',      \n",
    "    y='satisfaction_level',                \n",
    "    scatter_kws={'alpha': 0.4} \n",
    ")\n",
    "plt.suptitle('Связь удовлетворенности доставкой и общей удовлетворенности для всей выборки', y=1.03)\n",
    "plt.show()\n",
    "\n",
    "sns.lmplot(\n",
    "    data=delivery_merged,\n",
    "    x='price_subindex',      \n",
    "    y='satisfaction_level',                \n",
    "    scatter_kws={'alpha': 0.4} \n",
    ")\n",
    "plt.suptitle('Связь удовлетворенности ценой и общей удовлетворенности для всей выборки', y=1.03)\n",
    "plt.show()\n",
    "\n",
    "sns.lmplot(\n",
    "    data=delivery_merged,\n",
    "    x='food_subindex',      \n",
    "    y='satisfaction_level',                \n",
    "    scatter_kws={'alpha': 0.4} \n",
    ")\n",
    "plt.suptitle('Связь удовлетворенности едой и общей удовлетворенности для всей выборки', y=1.03)\n",
    "plt.show()"
   ]
  },
  {
   "cell_type": "markdown",
   "id": "295d4a32",
   "metadata": {},
   "source": [
    "**Интерпретация графиков:**\n",
    "- точки данных на графиках распределены хаотично, не образуя явного паттерна или тренда;\n",
    "- линии регрессии на 1 и 3 графиках (delivery_subindex и food_subindex) имеют незначительный наклон при больших доверительных интервалах, что указывает на то, что с большой долей вероятности эти тенденции не являются статистически значимыми;\n",
    "- линия регрессии на 2 графике (price_subindex) имеет более выраженный наклон при достаточно широком доверительном интервале, что может говорить о наличии положительной линейной связи и требует последующей проверки;"
   ]
  },
  {
   "cell_type": "markdown",
   "id": "bbb313dd",
   "metadata": {},
   "source": [
    "**Посчитаем корреляции между отдельными компонентами overall_satisfaction_index и satisfaction_level по всем заказам**"
   ]
  },
  {
   "cell_type": "code",
   "execution_count": 69,
   "id": "9c4fbad0",
   "metadata": {},
   "outputs": [
    {
     "name": "stdout",
     "output_type": "stream",
     "text": [
      "Коэффициент корреляции Спирмена (r): 0.1876\n",
      "P-value: 0.0000\n",
      "Результат статистически значим: отвергаем нулевую гипотезу.\n",
      "Есть основания полагать, что между переменными существует линейная связь.\n"
     ]
    }
   ],
   "source": [
    "x = delivery_df['price_subindex']\n",
    "y = delivery_df['satisfaction_level']\n",
    "\n",
    "corr_coef, p_value = spearmanr(x, y)\n",
    "\n",
    "print(f\"Коэффициент корреляции Спирмена (r): {corr_coef:.4f}\")\n",
    "print(f\"P-value: {p_value:.4f}\")\n",
    "\n",
    "# Добавим блок с автоматической интерпретацией p-value\n",
    "\n",
    "alpha = 0.05\n",
    "if p_value < alpha:\n",
    "    print(\"Результат статистически значим: отвергаем нулевую гипотезу.\")\n",
    "    print(\"Есть основания полагать, что между переменными существует линейная связь.\")\n",
    "else:\n",
    "    print(\"Результат не является статистически значимым: не можем отвергнуть нулевую гипотезу.\")\n",
    "    print(\"Наблюдаемая линейная связь могла возникнуть случайно.\")"
   ]
  },
  {
   "cell_type": "code",
   "execution_count": 70,
   "id": "309ef464",
   "metadata": {
    "scrolled": true
   },
   "outputs": [
    {
     "name": "stdout",
     "output_type": "stream",
     "text": [
      "Коэффициент корреляции Спирмена (r): 0.0326\n",
      "P-value: 0.3028\n",
      "Результат не является статистически значимым: не можем отвергнуть нулевую гипотезу.\n",
      "Наблюдаемая линейная связь могла возникнуть случайно.\n"
     ]
    }
   ],
   "source": [
    "x = delivery_df['food_subindex']\n",
    "y = delivery_df['satisfaction_level']\n",
    "\n",
    "corr_coef, p_value = spearmanr(x, y)\n",
    "\n",
    "print(f\"Коэффициент корреляции Спирмена (r): {corr_coef:.4f}\")\n",
    "print(f\"P-value: {p_value:.4f}\")\n",
    "\n",
    "# Добавим блок с автоматической интерпретацией p-value\n",
    "\n",
    "alpha = 0.05\n",
    "if p_value < alpha:\n",
    "    print(\"Результат статистически значим: отвергаем нулевую гипотезу.\")\n",
    "    print(\"Есть основания полагать, что между переменными существует линейная связь.\")\n",
    "else:\n",
    "    print(\"Результат не является статистически значимым: не можем отвергнуть нулевую гипотезу.\")\n",
    "    print(\"Наблюдаемая линейная связь могла возникнуть случайно.\")"
   ]
  },
  {
   "cell_type": "code",
   "execution_count": 71,
   "id": "4f9fb5a2",
   "metadata": {},
   "outputs": [
    {
     "name": "stdout",
     "output_type": "stream",
     "text": [
      "Коэффициент корреляции Спирмена (r): -0.0134\n",
      "P-value: 0.6723\n",
      "Результат не является статистически значимым: не можем отвергнуть нулевую гипотезу.\n",
      "Наблюдаемая линейная связь могла возникнуть случайно.\n"
     ]
    }
   ],
   "source": [
    "x = delivery_df['delivery_subindex']\n",
    "y = delivery_df['satisfaction_level']\n",
    "\n",
    "corr_coef, p_value = spearmanr(x, y)\n",
    "\n",
    "print(f\"Коэффициент корреляции Спирмена (r): {corr_coef:.4f}\")\n",
    "print(f\"P-value: {p_value:.4f}\")\n",
    "\n",
    "# Добавим блок с автоматической интерпретацией p-value\n",
    "\n",
    "alpha = 0.05\n",
    "if p_value < alpha:\n",
    "    print(\"Результат статистически значим: отвергаем нулевую гипотезу.\")\n",
    "    print(\"Есть основания полагать, что между переменными существует линейная связь.\")\n",
    "else:\n",
    "    print(\"Результат не является статистически значимым: не можем отвергнуть нулевую гипотезу.\")\n",
    "    print(\"Наблюдаемая линейная связь могла возникнуть случайно.\")"
   ]
  },
  {
   "cell_type": "markdown",
   "id": "a8750ca9",
   "metadata": {},
   "source": [
    "**Интерпретация:** корреляционный анализ Спирмена выявил статистически значимую слабую положительную связь между price_subindex и satisfaction_level, что подтверждает результаты визуального анализа диаграмм рассеяния."
   ]
  },
  {
   "cell_type": "markdown",
   "id": "06f08575",
   "metadata": {},
   "source": [
    "**Вывод:** на основании визуального анализа диаграмм рассеяния и расчета коэффициентов корреляции Спирмена для каждого сабиндекса можно сделать вывод, что удовлетворенность ценой потенциально может являться фактором общей удовлетворенности для \"усредненного\" клиента. Сила связи позволяет считать ее \"слабым сигналом\", требующим дальнейшего изучения и уточнения. Связь с оценками доставки и качества еды является статистически незначимой. \n",
    "\n",
    "В рамках исследования далее было решено изучить связи между общей оценкой удовлетворенности (satisfaction_level) и отдельными саб-индексами, агрегированными в overall_satisfaction_index для выделенных ранее групп клиентов.\n"
   ]
  },
  {
   "cell_type": "markdown",
   "id": "fa4584a2",
   "metadata": {},
   "source": [
    "**Блок 4. Исследование связи между общей оценкой удовлетворенности (satisfaction_level) и отдельными саб-индексами overall_satisfaction_index для отдельных групп клиентов.**"
   ]
  },
  {
   "cell_type": "markdown",
   "id": "e9d16dc7",
   "metadata": {},
   "source": [
    "***Исследовательский вопрос:*** есть ли связь между отдельными компонентами overall_satisfaction_index и общей оценкой удовлетворенности (satisfaction_level) для групп клиентов по количеству совершенных заказов?\n",
    "\n",
    "***Подход:*** для ответа на этот вопрос был проведен корреляционный анализ Спирмена, построены диаграммы рассеяния.\n",
    "\n",
    "***Статистические гипотезы:***\n",
    "\n",
    "**H₀:** Между отдельными компонентами overall_satisfaction_index и satisfaction_level для групп клиентов по количеству совершенных заказов отсутствует статистически значимая корреляция.\n",
    "\n",
    "**H₁:** Между отдельными компонентами overall_satisfaction_index и satisfaction_level для групп клиентов по количеству совершенных заказов существует статистически значимая положительная корреляция.\n",
    "\n",
    "\n",
    "***Ограничение исследования: мы проводим суммарно 12 тестов корреляции, что повышает вероятность получения ошибки первого рода. Возможно, для корректности результатов нужно бы было применить поправку Бонферрони.***"
   ]
  },
  {
   "cell_type": "code",
   "execution_count": 72,
   "id": "8d752aa3",
   "metadata": {},
   "outputs": [],
   "source": [
    "#посчитаем корреляции между отдельными компонентами overall_satisfaction_index и satisfaction_level по сегментам отдельно"
   ]
  },
  {
   "cell_type": "code",
   "execution_count": 73,
   "id": "9a5bbc39",
   "metadata": {},
   "outputs": [],
   "source": [
    "#добавим в датафрейм delivery_merged столбец с категорией клиента\n",
    "\n",
    "client_category=[]\n",
    "for count in delivery_merged['order_count']:\n",
    "    if count<=3:\n",
    "        client_category.append('new')\n",
    "    elif count>3 and count<=6:\n",
    "        client_category.append('active')\n",
    "    else:\n",
    "        client_category.append('loyal')\n",
    "\n",
    "delivery_merged['client_category']=client_category"
   ]
  },
  {
   "cell_type": "code",
   "execution_count": 74,
   "id": "e3a9ba98",
   "metadata": {},
   "outputs": [
    {
     "data": {
      "image/png": "[encoded data removed]",
      "text/plain": [
       "<Figure size 360x360 with 1 Axes>"
      ]
     },
     "metadata": {
      "needs_background": "light"
     },
     "output_type": "display_data"
    },
    {
     "data": {
      "image/png": "[encoded data removed]",
      "text/plain": [
       "<Figure size 360x360 with 1 Axes>"
      ]
     },
     "metadata": {
      "needs_background": "light"
     },
     "output_type": "display_data"
    },
    {
     "data": {
      "image/png": "[encoded data removed]",
      "text/plain": [
       "<Figure size 360x360 with 1 Axes>"
      ]
     },
     "metadata": {
      "needs_background": "light"
     },
     "output_type": "display_data"
    }
   ],
   "source": [
    "# сделаем расчеты для группы \"новички\"\n",
    "\n",
    "subset_new = delivery_merged[delivery_merged['client_category'] == 'new']\n",
    "\n",
    "sns.lmplot(\n",
    "    data=subset_new,\n",
    "    x='delivery_subindex',      \n",
    "    y='satisfaction_level',                \n",
    "    scatter_kws={'alpha': 0.4} \n",
    ")\n",
    "plt.suptitle('Связь удовлетворенности доставкой и общей удовлетворенности для категории \"Новички\"', y=1.03)\n",
    "plt.show()\n",
    "\n",
    "sns.lmplot(\n",
    "    data=subset_new,\n",
    "    x='price_subindex',      \n",
    "    y='satisfaction_level',                \n",
    "    scatter_kws={'alpha': 0.4} \n",
    ")\n",
    "plt.suptitle('Связь удовлетворенности ценой и общей удовлетворенности для для категории \"Новички\"', y=1.03)\n",
    "plt.show()\n",
    "\n",
    "sns.lmplot(\n",
    "    data=subset_new,\n",
    "    x='food_subindex',      \n",
    "    y='satisfaction_level',                \n",
    "    scatter_kws={'alpha': 0.4} \n",
    ")\n",
    "plt.suptitle('Связь удовлетворенности едой и общей удовлетворенности для для категории \"Новички\"', y=1.03)\n",
    "plt.show()"
   ]
  },
  {
   "cell_type": "markdown",
   "id": "f4a2c795",
   "metadata": {},
   "source": [
    "**Интерпретация графиков:**\n",
    "\n",
    "- точки данных на графиках распределены хаотично, не образуя явного паттерна или тренда;\n",
    "- линии регрессии на 1 и 3 графиках (delivery_subindex и food_subindex) имеют незначительный наклон при больших доверительных интервалах, что указывает на то, что с большой долей вероятности эти тенденции не являются статистически значимыми;\n",
    "- линия регрессии на 2 графике (price_subindex) имеет более выраженный наклон при достаточно широком доверительном интервале, что может говорить о наличии положительной линейной связи и требует последующей проверки;"
   ]
  },
  {
   "cell_type": "markdown",
   "id": "ee8aa0af",
   "metadata": {},
   "source": [
    "**Посчитаем корреляции между отдельными компонентами overall_satisfaction_index и satisfaction_level для данной категории клиентов**"
   ]
  },
  {
   "cell_type": "code",
   "execution_count": 75,
   "id": "778090c5",
   "metadata": {},
   "outputs": [
    {
     "name": "stdout",
     "output_type": "stream",
     "text": [
      "Коэффициент корреляции Спирмена (r): 0.1357\n",
      "P-value: 0.0090\n",
      "Результат статистически значим: отвергаем нулевую гипотезу.\n",
      "Есть основания полагать, что между переменными существует линейная связь.\n"
     ]
    }
   ],
   "source": [
    "#расчет корреляции Спирмена и p-value (price_subindex)\n",
    "\n",
    "x = subset_new['price_subindex']\n",
    "y = subset_new['satisfaction_level']\n",
    "\n",
    "corr_coef, p_value = spearmanr(x, y)\n",
    "\n",
    "print(f\"Коэффициент корреляции Спирмена (r): {corr_coef:.4f}\")\n",
    "print(f\"P-value: {p_value:.4f}\")\n",
    "\n",
    "# Добавим блок с автоматической интерпретацией p-value\n",
    "\n",
    "alpha = 0.05\n",
    "if p_value < alpha:\n",
    "    print(\"Результат статистически значим: отвергаем нулевую гипотезу.\")\n",
    "    print(\"Есть основания полагать, что между переменными существует линейная связь.\")\n",
    "else:\n",
    "    print(\"Результат не является статистически значимым: не можем отвергнуть нулевую гипотезу.\")\n",
    "    print(\"Наблюдаемая линейная связь могла возникнуть случайно.\")"
   ]
  },
  {
   "cell_type": "code",
   "execution_count": 76,
   "id": "0f097628",
   "metadata": {},
   "outputs": [
    {
     "name": "stdout",
     "output_type": "stream",
     "text": [
      "Коэффициент корреляции Спирмена (r): -0.0299\n",
      "P-value: 0.5660\n",
      "Результат не является статистически значимым: не можем отвергнуть нулевую гипотезу.\n",
      "Наблюдаемая линейная связь могла возникнуть случайно.\n"
     ]
    }
   ],
   "source": [
    "#расчет корреляции Спирмена и p-value (food_subindex)\n",
    "\n",
    "x = subset_new['food_subindex']\n",
    "y = subset_new['satisfaction_level']\n",
    "\n",
    "corr_coef, p_value = spearmanr(x, y)\n",
    "\n",
    "print(f\"Коэффициент корреляции Спирмена (r): {corr_coef:.4f}\")\n",
    "print(f\"P-value: {p_value:.4f}\")\n",
    "\n",
    "# Добавим блок с автоматической интерпретацией p-value\n",
    "\n",
    "alpha = 0.05\n",
    "if p_value < alpha:\n",
    "    print(\"Результат статистически значим: отвергаем нулевую гипотезу.\")\n",
    "    print(\"Есть основания полагать, что между переменными существует линейная связь.\")\n",
    "else:\n",
    "    print(\"Результат не является статистически значимым: не можем отвергнуть нулевую гипотезу.\")\n",
    "    print(\"Наблюдаемая линейная связь могла возникнуть случайно.\")"
   ]
  },
  {
   "cell_type": "code",
   "execution_count": 77,
   "id": "41c7f389",
   "metadata": {},
   "outputs": [
    {
     "name": "stdout",
     "output_type": "stream",
     "text": [
      "Коэффициент корреляции Спирмена (r): -0.0624\n",
      "P-value: 0.2313\n",
      "Результат не является статистически значимым: не можем отвергнуть нулевую гипотезу.\n",
      "Наблюдаемая линейная связь могла возникнуть случайно.\n"
     ]
    }
   ],
   "source": [
    "#расчет корреляции Спирмена и p-value (delivery_subindex)\n",
    "\n",
    "x = subset_new['delivery_subindex']\n",
    "y = subset_new['satisfaction_level']\n",
    "\n",
    "corr_coef, p_value = spearmanr(x, y)\n",
    "\n",
    "print(f\"Коэффициент корреляции Спирмена (r): {corr_coef:.4f}\")\n",
    "print(f\"P-value: {p_value:.4f}\")\n",
    "\n",
    "# Добавим блок с автоматической интерпретацией p-value\n",
    "\n",
    "alpha = 0.05\n",
    "if p_value < alpha:\n",
    "    print(\"Результат статистически значим: отвергаем нулевую гипотезу.\")\n",
    "    print(\"Есть основания полагать, что между переменными существует линейная связь.\")\n",
    "else:\n",
    "    print(\"Результат не является статистически значимым: не можем отвергнуть нулевую гипотезу.\")\n",
    "    print(\"Наблюдаемая линейная связь могла возникнуть случайно.\")"
   ]
  },
  {
   "cell_type": "markdown",
   "id": "390219ea",
   "metadata": {},
   "source": [
    "**Интерпретация:** корреляционный анализ Спирмена выявил статистически значимую положительную, но слабую, связь между price_subindex и satisfaction_level для данного сегмента клиентов, что подтверждает результаты визуального анализа диаграмм рассеяния."
   ]
  },
  {
   "cell_type": "code",
   "execution_count": 78,
   "id": "b9873a5e",
   "metadata": {},
   "outputs": [
    {
     "data": {
      "image/png": "[encoded data removed]",
      "text/plain": [
       "<Figure size 360x360 with 1 Axes>"
      ]
     },
     "metadata": {
      "needs_background": "light"
     },
     "output_type": "display_data"
    },
    {
     "data": {
      "image/png": "[encoded data removed]",
      "text/plain": [
       "<Figure size 360x360 with 1 Axes>"
      ]
     },
     "metadata": {
      "needs_background": "light"
     },
     "output_type": "display_data"
    },
    {
     "data": {
      "image/png": "[encoded data removed]",
      "text/plain": [
       "<Figure size 360x360 with 1 Axes>"
      ]
     },
     "metadata": {
      "needs_background": "light"
     },
     "output_type": "display_data"
    }
   ],
   "source": [
    "# сделаем расчеты для группы \"активные\"\n",
    "\n",
    "subset_active = delivery_merged[delivery_merged['client_category'] == 'active']\n",
    "\n",
    "sns.lmplot(\n",
    "    data=subset_active,\n",
    "    x='delivery_subindex',      \n",
    "    y='satisfaction_level',                \n",
    "    scatter_kws={'alpha': 0.4} \n",
    ")\n",
    "plt.suptitle('Связь удовлетворенности доставкой и общей удовлетворенности для категории \"Активные\"', y=1.03)\n",
    "plt.show()\n",
    "\n",
    "sns.lmplot(\n",
    "    data=subset_active,\n",
    "    x='price_subindex',      \n",
    "    y='satisfaction_level',                \n",
    "    scatter_kws={'alpha': 0.4} \n",
    ")\n",
    "plt.suptitle('Связь удовлетворенности ценой и общей удовлетворенности для категории \"Активные\"', y=1.03)\n",
    "plt.show()\n",
    "\n",
    "sns.lmplot(\n",
    "    data=subset_active,\n",
    "    x='food_subindex',      \n",
    "    y='satisfaction_level',                \n",
    "    scatter_kws={'alpha': 0.4} \n",
    ")\n",
    "plt.suptitle('Связь удовлетворенности едой и общей удовлетворенности для категории \"Активные\"', y=1.03)\n",
    "plt.show()"
   ]
  },
  {
   "cell_type": "markdown",
   "id": "1977c93d",
   "metadata": {},
   "source": [
    "**Интерпретация графиков:**\n",
    "\n",
    "- линия регрессии на 1 графике (delivery_subindex) имеет незначительный наклон при большом доверительном интервале, что указывает на то, что с большой долей вероятности эта тенденция не является статистически значимой;\n",
    "- линии регрессии на графиках 2 и 3 (price_subindex и food_subindex) имеют более выраженный наклон при достаточно широком доверительном интервале, что может говорить о наличии положительной линейной связи и требует последующей проверки;"
   ]
  },
  {
   "cell_type": "markdown",
   "id": "8c213e7c",
   "metadata": {},
   "source": [
    "**Посчитаем корреляции между отдельными компонентами overall_satisfaction_index и satisfaction_level для данной категории клиентов**"
   ]
  },
  {
   "cell_type": "code",
   "execution_count": 79,
   "id": "fa283791",
   "metadata": {},
   "outputs": [
    {
     "name": "stdout",
     "output_type": "stream",
     "text": [
      "Коэффициент корреляции Спирмена (r): 0.2471\n",
      "P-value: 0.0000\n",
      "Результат статистически значим: отвергаем нулевую гипотезу.\n",
      "Есть основания полагать, что между переменными существует линейная связь.\n"
     ]
    }
   ],
   "source": [
    "#расчет корреляции Спирмена и p-value (price_subindex)\n",
    "\n",
    "x = subset_active['price_subindex']\n",
    "y = subset_active['satisfaction_level']\n",
    "\n",
    "# Рассчитываем коэффициент Спирмена и p-value\n",
    "corr_coef, p_value = spearmanr(x, y)\n",
    "\n",
    "print(f\"Коэффициент корреляции Спирмена (r): {corr_coef:.4f}\")\n",
    "print(f\"P-value: {p_value:.4f}\")\n",
    "\n",
    "# Добавим блок с автоматической интерпретацией p-value\n",
    "\n",
    "alpha = 0.05\n",
    "if p_value < alpha:\n",
    "    print(\"Результат статистически значим: отвергаем нулевую гипотезу.\")\n",
    "    print(\"Есть основания полагать, что между переменными существует линейная связь.\")\n",
    "else:\n",
    "    print(\"Результат не является статистически значимым: не можем отвергнуть нулевую гипотезу.\")\n",
    "    print(\"Наблюдаемая линейная связь могла возникнуть случайно.\")"
   ]
  },
  {
   "cell_type": "code",
   "execution_count": 80,
   "id": "49017ae0",
   "metadata": {},
   "outputs": [
    {
     "name": "stdout",
     "output_type": "stream",
     "text": [
      "Коэффициент корреляции Спирмена (r): 0.0989\n",
      "P-value: 0.0239\n",
      "Результат статистически значим: отвергаем нулевую гипотезу.\n",
      "Есть основания полагать, что между переменными существует линейная связь.\n"
     ]
    }
   ],
   "source": [
    "#расчет корреляции Спирмена и p-value (food_subindex)\n",
    "\n",
    "x = subset_active['food_subindex']\n",
    "y = subset_active['satisfaction_level']\n",
    "\n",
    "# Рассчитываем коэффициент Спирмена и p-value\n",
    "corr_coef, p_value = spearmanr(x, y)\n",
    "\n",
    "print(f\"Коэффициент корреляции Спирмена (r): {corr_coef:.4f}\")\n",
    "print(f\"P-value: {p_value:.4f}\")\n",
    "\n",
    "# Добавим блок с автоматической интерпретацией p-value\n",
    "\n",
    "alpha = 0.05\n",
    "if p_value < alpha:\n",
    "    print(\"Результат статистически значим: отвергаем нулевую гипотезу.\")\n",
    "    print(\"Есть основания полагать, что между переменными существует линейная связь.\")\n",
    "else:\n",
    "    print(\"Результат не является статистически значимым: не можем отвергнуть нулевую гипотезу.\")\n",
    "    print(\"Наблюдаемая линейная связь могла возникнуть случайно.\")"
   ]
  },
  {
   "cell_type": "code",
   "execution_count": 81,
   "id": "554d3b28",
   "metadata": {},
   "outputs": [
    {
     "name": "stdout",
     "output_type": "stream",
     "text": [
      "Коэффициент корреляции Спирмена (r): 0.0083\n",
      "P-value: 0.8499\n",
      "Результат не является статистически значимым: не можем отвергнуть нулевую гипотезу.\n",
      "Наблюдаемая линейная связь могла возникнуть случайно.\n"
     ]
    }
   ],
   "source": [
    "#расчет корреляции Спирмена и p-value (delivery_subindex)\n",
    "\n",
    "x = subset_active['delivery_subindex']\n",
    "y = subset_active['satisfaction_level']\n",
    "\n",
    "# Рассчитываем коэффициент Спирмена и p-value\n",
    "corr_coef, p_value = spearmanr(x, y)\n",
    "\n",
    "print(f\"Коэффициент корреляции Спирмена (r): {corr_coef:.4f}\")\n",
    "print(f\"P-value: {p_value:.4f}\")\n",
    "\n",
    "# Добавим блок с автоматической интерпретацией p-value\n",
    "\n",
    "alpha = 0.05\n",
    "if p_value < alpha:\n",
    "    print(\"Результат статистически значим: отвергаем нулевую гипотезу.\")\n",
    "    print(\"Есть основания полагать, что между переменными существует линейная связь.\")\n",
    "else:\n",
    "    print(\"Результат не является статистически значимым: не можем отвергнуть нулевую гипотезу.\")\n",
    "    print(\"Наблюдаемая линейная связь могла возникнуть случайно.\")"
   ]
  },
  {
   "cell_type": "markdown",
   "id": "b2421fc4",
   "metadata": {},
   "source": [
    "**Интерпретация:** корреляционный анализ Спирмена выявил статистически значимую слабую положительную связь между price_subindex и satisfaction_level, а также статистически значимую слабую положительную связь между food_subindex и satisfaction_level для данного сегмента клиентов, что подтверждает результаты визуального анализа диаграмм рассеяния."
   ]
  },
  {
   "cell_type": "code",
   "execution_count": 82,
   "id": "152da45f",
   "metadata": {},
   "outputs": [
    {
     "data": {
      "image/png": "[encoded data removed]",
      "text/plain": [
       "<Figure size 360x360 with 1 Axes>"
      ]
     },
     "metadata": {
      "needs_background": "light"
     },
     "output_type": "display_data"
    },
    {
     "data": {
      "image/png": "[encoded data removed]",
      "text/plain": [
       "<Figure size 360x360 with 1 Axes>"
      ]
     },
     "metadata": {
      "needs_background": "light"
     },
     "output_type": "display_data"
    },
    {
     "data": {
      "image/png": "[encoded data removed]",
      "text/plain": [
       "<Figure size 360x360 with 1 Axes>"
      ]
     },
     "metadata": {
      "needs_background": "light"
     },
     "output_type": "display_data"
    }
   ],
   "source": [
    "# сделаем расчеты для группы \"лояльные\"\n",
    "\n",
    "subset_loyal = delivery_merged[delivery_merged['client_category'] == 'loyal']\n",
    "\n",
    "sns.lmplot(\n",
    "    data=subset_loyal,\n",
    "    x='delivery_subindex',      \n",
    "    y='satisfaction_level',                \n",
    "    scatter_kws={'alpha': 0.4} \n",
    ")\n",
    "plt.suptitle('Связь удовлетворенности доставкой и общей удовлетворенности для категории \"Лояльные\"', y=1.03)\n",
    "plt.show()\n",
    "\n",
    "sns.lmplot(\n",
    "    data=subset_loyal,\n",
    "    x='price_subindex',      \n",
    "    y='satisfaction_level',                \n",
    "    scatter_kws={'alpha': 0.4} \n",
    ")\n",
    "plt.suptitle('Связь удовлетворенности ценой и общей удовлетворенности для категории \"Лояльные', y=1.03)\n",
    "plt.show()\n",
    "\n",
    "sns.lmplot(\n",
    "    data=subset_loyal,\n",
    "    x='food_subindex',      \n",
    "    y='satisfaction_level',                \n",
    "    scatter_kws={'alpha': 0.4} \n",
    ")\n",
    "plt.suptitle('Связь удовлетворенности едой и общей удовлетворенности для категории \"Лояльные', y=1.03)\n",
    "plt.show()"
   ]
  },
  {
   "cell_type": "markdown",
   "id": "59028dfb",
   "metadata": {},
   "source": [
    "**Интерпретация графиков:**\n",
    "\n",
    "\n",
    "-линии регрессии на всех 3-х графиках имеют видимый наклон при больших доверительных интервалах, что указывает на то, что с большой долей вероятности эти тенденции не являются статистически значимыми; требуется дальнейшая проверка;"
   ]
  },
  {
   "cell_type": "markdown",
   "id": "1db8cdb3",
   "metadata": {},
   "source": [
    "**Посчитаем корреляции между отдельными компонентами overall_satisfaction_index и satisfaction_level для данной категории клиентов**"
   ]
  },
  {
   "cell_type": "code",
   "execution_count": 83,
   "id": "f8bf6a87",
   "metadata": {},
   "outputs": [
    {
     "name": "stdout",
     "output_type": "stream",
     "text": [
      "Коэффициент корреляции Спирмена (r): 0.0860\n",
      "P-value: 0.3763\n",
      "Результат не является статистически значимым: не можем отвергнуть нулевую гипотезу.\n",
      "Наблюдаемая линейная связь могла возникнуть случайно.\n"
     ]
    }
   ],
   "source": [
    "#расчет корреляции Спирмена и p-value (price_subindex)\n",
    "\n",
    "x = subset_loyal['price_subindex']\n",
    "y = subset_loyal['satisfaction_level']\n",
    "\n",
    "# Рассчитываем коэффициент Спирмена и p-value\n",
    "corr_coef, p_value = spearmanr(x, y)\n",
    "\n",
    "print(f\"Коэффициент корреляции Спирмена (r): {corr_coef:.4f}\")\n",
    "print(f\"P-value: {p_value:.4f}\")\n",
    "\n",
    "# Автоматическая интерпретация\n",
    "alpha = 0.05\n",
    "if p_value < alpha:\n",
    "    print(\"Результат статистически значим: отвергаем нулевую гипотезу.\")\n",
    "    print(\"Есть основания полагать, что между переменными существует линейная связь.\")\n",
    "else:\n",
    "    print(\"Результат не является статистически значимым: не можем отвергнуть нулевую гипотезу.\")\n",
    "    print(\"Наблюдаемая линейная связь могла возникнуть случайно.\")"
   ]
  },
  {
   "cell_type": "code",
   "execution_count": 84,
   "id": "cfba38a6",
   "metadata": {},
   "outputs": [
    {
     "name": "stdout",
     "output_type": "stream",
     "text": [
      "Коэффициент корреляции Спирмена (r): -0.0501\n",
      "P-value: 0.6064\n",
      "Результат не является статистически значимым: не можем отвергнуть нулевую гипотезу.\n",
      "Наблюдаемая линейная связь могла возникнуть случайно.\n"
     ]
    }
   ],
   "source": [
    "#расчет корреляции Спирмена и p-value (food_subindex)\n",
    "\n",
    "x = subset_loyal['food_subindex']\n",
    "y = subset_loyal['satisfaction_level']\n",
    "\n",
    "# Рассчитываем коэффициент Спирмена и p-value\n",
    "corr_coef, p_value = spearmanr(x, y)\n",
    "\n",
    "print(f\"Коэффициент корреляции Спирмена (r): {corr_coef:.4f}\")\n",
    "print(f\"P-value: {p_value:.4f}\")\n",
    "\n",
    "# Автоматическая интерпретация\n",
    "alpha = 0.05\n",
    "if p_value < alpha:\n",
    "    print(\"Результат статистически значим: отвергаем нулевую гипотезу.\")\n",
    "    print(\"Есть основания полагать, что между переменными существует линейная связь.\")\n",
    "else:\n",
    "    print(\"Результат не является статистически значимым: не можем отвергнуть нулевую гипотезу.\")\n",
    "    print(\"Наблюдаемая линейная связь могла возникнуть случайно.\")"
   ]
  },
  {
   "cell_type": "code",
   "execution_count": 85,
   "id": "9f34e0eb",
   "metadata": {},
   "outputs": [
    {
     "name": "stdout",
     "output_type": "stream",
     "text": [
      "Коэффициент корреляции Спирмена (r): 0.0440\n",
      "P-value: 0.6512\n",
      "Результат не является статистически значимым: не можем отвергнуть нулевую гипотезу.\n",
      "Наблюдаемая линейная связь могла возникнуть случайно.\n"
     ]
    }
   ],
   "source": [
    "#расчет корреляции Спирмена и p-value (delivery_subindex)\n",
    "\n",
    "x = subset_loyal['delivery_subindex']\n",
    "y = subset_loyal['satisfaction_level']\n",
    "\n",
    "# Рассчитываем коэффициент Спирмена и p-value\n",
    "corr_coef, p_value = spearmanr(x, y)\n",
    "\n",
    "print(f\"Коэффициент корреляции Спирмена (r): {corr_coef:.4f}\")\n",
    "print(f\"P-value: {p_value:.4f}\")\n",
    "\n",
    "# Автоматическая интерпретация\n",
    "alpha = 0.05\n",
    "if p_value < alpha:\n",
    "    print(\"Результат статистически значим: отвергаем нулевую гипотезу.\")\n",
    "    print(\"Есть основания полагать, что между переменными существует линейная связь.\")\n",
    "else:\n",
    "    print(\"Результат не является статистически значимым: не можем отвергнуть нулевую гипотезу.\")\n",
    "    print(\"Наблюдаемая линейная связь могла возникнуть случайно.\")"
   ]
  },
  {
   "cell_type": "markdown",
   "id": "8a8e1335",
   "metadata": {},
   "source": [
    "**Интерпретация**: корреляционный анализ Спирмена не выявил статистически значимых связей между сабиндексами и оценкой satisfaction_level для данного сегмента клиентов, что подтверждает результаты визуального анализа диаграмм рассеяния."
   ]
  },
  {
   "cell_type": "markdown",
   "id": "fa2141f8",
   "metadata": {},
   "source": [
    "**Блок 5. Визуализация полученных данных.**"
   ]
  },
  {
   "cell_type": "markdown",
   "id": "39c94ecb",
   "metadata": {},
   "source": [
    "Для создания столбчатой диаграммы, визуализирующей полученные нами статистически значимые результаты, создадим новый df с данными о коэффициентах корреляции Спирмена."
   ]
  },
  {
   "cell_type": "code",
   "execution_count": 86,
   "id": "d7b97074",
   "metadata": {},
   "outputs": [
    {
     "name": "stdout",
     "output_type": "stream",
     "text": [
      "                  correlation_food  correlation_price correlation_delivery\n",
      "client_category                                                           \n",
      "all_customers                  NaN             0.1876                 None\n",
      "loyal_customers                NaN                NaN                 None\n",
      "active_customers            0.0989             0.2471                 None\n",
      "new_customers                  NaN             0.1357                 None\n"
     ]
    }
   ],
   "source": [
    "#создаем датафрейм с данными о статистически значимых коэффициентах корреляции\n",
    "\n",
    "spearman_coeff={'client_category':['all_customers', 'loyal_customers', 'active_customers', 'new_customers'],\n",
    "            'correlation_food': [None, None, 0.0989, None],\n",
    "            'correlation_price': [0.1876, None, 0.2471, 0.1357],\n",
    "            'correlation_delivery': [None, None, None, None],}\n",
    "spearman_df=pd.DataFrame(spearman_coeff)\n",
    "spearman_df=spearman_df.set_index('client_category')\n",
    "\n",
    "print(spearman_df)"
   ]
  },
  {
   "cell_type": "code",
   "execution_count": 87,
   "id": "7029be36",
   "metadata": {},
   "outputs": [
    {
     "name": "stdout",
     "output_type": "stream",
     "text": [
      "Трансформированный датафрейм (готов к построению графика):\n",
      "    client_category аспект_удовлетворенности коэффициент_r\n",
      "2  active_customers         correlation_food        0.0989\n",
      "4     all_customers        correlation_price        0.1876\n",
      "6  active_customers        correlation_price        0.2471\n",
      "7     new_customers        correlation_price        0.1357\n"
     ]
    }
   ],
   "source": [
    "#трансформируем датафрейм для построения графика\n",
    "\n",
    "df_for_plot = spearman_df.reset_index()\n",
    "\n",
    "df_melted = df_for_plot.melt(\n",
    "    id_vars='client_category',                                \n",
    "    value_vars=['correlation_food', 'correlation_price', 'correlation_delivery'],\n",
    "    var_name='аспект_удовлетворенности',                           \n",
    "    value_name='коэффициент_r'                                \n",
    ")\n",
    "\n",
    "# Удалим строки с пропусками, чтобы они не мешались на графике\n",
    "df_melted.dropna(inplace=True)\n",
    "\n",
    "print(\"Трансформированный датафрейм (готов к построению графика):\")\n",
    "print(df_melted)\n"
   ]
  },
  {
   "cell_type": "code",
   "execution_count": 89,
   "id": "d8d8ea8b",
   "metadata": {},
   "outputs": [
    {
     "data": {
      "image/png": "[encoded data removed]",
      "text/plain": [
       "<Figure size 864x504 with 1 Axes>"
      ]
     },
     "metadata": {
      "needs_background": "light"
     },
     "output_type": "display_data"
    }
   ],
   "source": [
    "#создаем диаграмму \"Сравнение потенциальных \"предикторов\" удовлетворенности по сегментам клиентов\"\n",
    "\n",
    "plt.figure(figsize=(12, 7))\n",
    "\n",
    "sns.barplot(\n",
    "    data=df_melted,\n",
    "    x='client_category',     \n",
    "    y='коэффициент_r',        \n",
    "    hue='аспект_удовлетворенности'  \n",
    ")\n",
    "\n",
    "plt.axhline(0, color='black', linewidth=0.8)\n",
    "\n",
    "plt.title('Сравнение потенциальных \"предикторов\" удовлетворенности по сегментам клиентов', fontsize=16)\n",
    "plt.xlabel('Сегмент клиентов', fontsize=12)\n",
    "plt.ylabel('Коэффициент корреляции Спирмена (r)', fontsize=12)\n",
    "\n",
    "plt.tight_layout()\n",
    "plt.show()"
   ]
  },
  {
   "cell_type": "markdown",
   "id": "d9334d5d",
   "metadata": {},
   "source": [
    "**Интерпретация графика:** \n",
    "\n",
    "**Важно учитывать, что все полученные нами статистически значимые коэффициенты корреляции свидетельствуют о слабой положительной связи. С учетом множественного характера тестирования, мы можем считать эти связи скорее \"сигналами\", требующими дальнейшего прояснения и уточнения, чем полноценными драйверами удовлетворенности.**\n",
    "\n",
    "\n",
    "**1) \"Средний клиент\":**\n",
    "\n",
    "\n",
    "- проведенные исследования выявили статистически значимую слабую положительную (r=0.1876) связь между оценкой satisfaction_level и сабиндексом price_subindex;\n",
    "\n",
    "\n",
    "- анализ на общей выборке (\"средний клиент\") выявил только один потенциальный драйвер (цена). Дальнейший анализ показал, этот \"средний\" результат скрывает более сложные паттерны внутри сегментов;\n",
    "\n",
    "\n",
    "**2) \"Новые клиенты\":**\n",
    "\n",
    "\n",
    "\n",
    "- проведенные исследования выявили статистически значимую слабую положительную (r=0.1357) связь между оценкой satisfaction_level и сабиндексом price_subindex;\n",
    "\n",
    "\n",
    "- рекомендация для дальнейшего исследования: можно выдвинуть гипотезу, что этот сегмент особенно чувствителен к промо-акциям (применение купонов, промокодов); \n",
    "\n",
    "- возможный метод исследования: проведение A/B теста - одной группе пользователей-новичков предлагается скидка на заказ, а контрольной группе — нет, затем их средние оценки satisfaction_level и конверсия в повторный заказ сравниваются;\n",
    "\n",
    "\n",
    "**3) \"Активные клиенты\":**\n",
    "\n",
    "\n",
    "- проведенные исследования выявили статистически значимую слабую положительную (r=0.2471) связь между оценкой satisfaction_level и сабиндексом price_subindex, а также статистически значимую слабую положительную (r=0.0989) связь между оценкой satisfaction_level и сабиндексом food_subindex;\n",
    "\n",
    "\n",
    "\n",
    "- полученные результаты могут свидетельствовать о том, что более \"зрелых\" клиентов больше интересует соотношение \"цена-качество\" - исследование может быть продолжено в контексте более детального выяснения факторов удовлетворенности для данного сегмента;\n",
    "\n",
    "\n",
    "\n",
    "**4) \"Лояльные клиенты\":**\n",
    "\n",
    "\n",
    "\n",
    "- проведенные исследования не выявили статистически значимых связей между оценкой satisfaction_level и сабиндексами price_subindex, food_subindex, delivery_subindex;\n",
    "\n",
    "\n",
    "\n",
    "- традиционно замеряемые факторы удовлетворенности \"не работают\" для данной группы клиентов - необходимо провести исследование для выявления истинных драйверов удовлетворенности для категории \"Лояльные\";"
   ]
  },
  {
   "cell_type": "markdown",
   "id": "623093d7",
   "metadata": {},
   "source": [
    "**Блок 6. Продолжение исследования драйверов удовлетворенности клиентов сегмента \"Лояльные\"**"
   ]
  },
  {
   "cell_type": "markdown",
   "id": "daf477e6",
   "metadata": {},
   "source": [
    "Исследование данной категории является наиболее важным, т.к.\n",
    "\n",
    "**а) это клиенты, принесшие компании наибольшую прибыль;**\n",
    "\n",
    "**б) это единственная группа клиентов, для которой не выявлено не только ни одного значимого драйвера удовлетворенности, но даже какого-либо \"сигнала\", указывающего в его направлении;**"
   ]
  },
  {
   "cell_type": "markdown",
   "id": "2311baaa",
   "metadata": {},
   "source": [
    "\n",
    "\n",
    "**Выделим гипотезы о факторах, которые могут влиять на оценку удовлетворенности лояльных клиентов:**\n",
    "\n",
    "\n",
    "- __удобство интерфейса мобильного приложения (привычный интерфейс)__ - для клиента важно быстро сделать заказ в привычном и знакомом интерфейсе;\n",
    "\n",
    "- __отсутствие негативного опыта (надежность)__ - для клиента важно, что еда приедет теплой, заказ не перепутают и не разольют, заказ всегда привозят примерно за одно и то же время;\n",
    "\n",
    "\n",
    "- __интеграция в образ жизни__ - клиент заказывает нашу доставку в одних и тех же ситуациях (вечером в пятницу на посиделках с друзьями, на обед с коллегами в офисе, на семейный ужин в воскресенье и т.д.);\n"
   ]
  },
  {
   "cell_type": "markdown",
   "id": "c0be7b1e",
   "metadata": {},
   "source": [
    "**Цель исследования:**\n",
    "- выявление истинных драйверов удовлетворенности клиентов категории \"Лояльные\".\n",
    "\n",
    "**Методы проведения исследования:**\n",
    "\n",
    "- количественное исследование;\n",
    "- полуструктурированное интервью.\n",
    "\n",
    "**Задачи:**\n",
    "\n",
    "\n",
    "**а) количественное исследование:**\n",
    "\n",
    "\n",
    "***Проверка гипотезы  \"удобство интерфейса мобильного приложения (привычный интерфейс)\"***\n",
    "\n",
    "\n",
    "- замерить среднее время от открытия приложения до оформления заказа (гипотеза - у лояльных клиентов это время значительно меньше, чем у новичков);\n",
    "\n",
    "\n",
    "- расчитать частоту использования функции \"повторить заказ\" или функции \"избранное\" (гипотеза - лояльные клиенты чаще новичков и активных пользуются функциями, ускоряющими процесс заказа);\n",
    "\n",
    "\n",
    "- расчитать коэффициент корреляции между уровнем удовлетворенности (satisfaction_level) и долей заказов с помощью функций \"повторить заказ\" или \"избранное\" (гипотеза - возможна статистически значимая высокая положительная корреляция между количеством заказов, совершенных с помощью функций, ускоряющих заказ, с уровнем удовлетворенности);\n",
    "\n",
    "\n",
    "- рассчитать долю \"беспроблемных заказов\" для каждого клиента от всех совершенных заказов, а затем проверить корреляцию с satisfaction_level (гипотеза - чем выше  доля \"беспроблемных заказов\", тем выше удовлетворенность);\n",
    "\n",
    "\n",
    "***Проверка гипотезы \"отсутствие негативного опыта (надежность)\"***\n",
    "\n",
    "- рассчитать стандартное отклонение времени доставки (гипотеза - тем выше удовлетворенность, чем ниже вариативность времени доставки);\n",
    "\n",
    "- рассчитать частоту обращений в поддержку с проблемами \"неполный заказ\", \"заказ приехал холодным\", \"заказ поврежден\", \"курьер сильно опоздал\";\n",
    "\n",
    "**б) качественное исследование:**\n",
    "\n",
    "***Проверка перечисленных выше гипотез + проверка гипотезы \"интеграция в образ жизни\"***\n",
    "\n",
    "- определить критерии и объем выборки;\n",
    "- определить каналы отбора респондентов;\n",
    "- составить анкету для отбора респондентов;\n",
    "- провести полуструктурированное интервью длительностью 45-60 минут.\n"
   ]
  },
  {
   "cell_type": "markdown",
   "id": "be5408a1",
   "metadata": {},
   "source": [
    "**Размер выборки:**\n",
    "- первоначально - 8-10 респондентов (выборка может быть увеличена в случае необходимости - до момента получения принципиально новой информации).\n",
    "\n",
    "**Каналы отбора респондентов:** \n",
    "- Email-рассылка клиентам данной категории;\n",
    "- пуш-уведомдение в приложении клиентам данной категории;\n",
    "\n",
    "**Текст:**\n",
    "- готовы ли вы уделить 45-60 минут своего времени для беседы онлайн? Предложим промокод n% на следующую доставку"
   ]
  },
  {
   "cell_type": "markdown",
   "id": "f2268022",
   "metadata": {},
   "source": [
    "**План полуструктурированного интервью.**\n",
    "\n",
    "***1) Тема:***\n",
    "- Субъективный опыт использования *нашего приложения доставки еды;\n",
    "\n",
    "***Возможные вопросы:***\n",
    "- Расскажите о последнем опыте использования нашего приложения. Что это была за ситуация?\n",
    "\n",
    "или\n",
    "\n",
    "- Расскажите о типичной ситуации, когда вы заказываете в нашем приложении. Когда это обычно происходит?\n",
    "\n",
    "\n",
    "***2) Тема:***\n",
    "- Субъективные причины выбора нашего приложения доставки еды;\n",
    "\n",
    "***Возможные вопросы:***\n",
    "- Почему вы регулярно выбираете наше приложение?/Что заставляет вас снова и снова возвращаться в наше приложение?\n",
    "\n",
    "\n",
    "- Бывало ли, что в момент совершения заказа вы рассматривали другое приложение для доставки, но останавливались на нашем? Почему?\n",
    "\n",
    "\n",
    "или\n",
    "\n",
    "- Сравните наше приложение с *конкурент*? Чем мы для вас отличаемся?\n",
    "\n",
    "\n",
    "- Если бы наш сервис внезапно прекратил работу, чего бы вам не хватало?\n",
    "\n",
    "- Какую проблему в вашей жизни решает наш сервис?\n",
    "\n",
    "***3) Тема:***\n",
    "- Проверка результатов проведенного исследования;\n",
    "\n",
    "***Возможные вопросы:***\n",
    "- Для вас важна цена, качество еды? Или может быть качество курьерской доставки? Почему да/нет?"
   ]
  },
  {
   "cell_type": "markdown",
   "id": "84a399c6",
   "metadata": {},
   "source": [
    "**Также может быть проведено UX-исследование, например, в формате юзабилити-тестирования с последующим интервью:**\n",
    "\n",
    "- просим клиента из группы \"Лояльные\" выполнить типичную задачу в нашем приложении, комментируя действия вслух;\n",
    "\n",
    "**Таким образом мы можем проверить гипотезу \"удобство интерфейса мобильного приложения (привычный интерфейс)\"**\n",
    "\n",
    "- клиент может быстро и не задумываясь нажимать на кнопки, использовать функцию \"повторный заказ\";\n",
    "\n",
    "- клиент может использовать одну неочевидную удобную для него фичу;\n",
    "\n",
    "\n"
   ]
  },
  {
   "cell_type": "markdown",
   "id": "9791c453",
   "metadata": {},
   "source": [
    "**Блок 7. Примеры возможного влияния на бизнес.**\n",
    "\n",
    "**Проведение данного исследования позволит нам:**\n",
    "\n",
    "\n",
    "- приоритизировать разработку фич, направленных на удержание лояльных клиентов; \n",
    "\n",
    "\n",
    "- приотизировать улучшение и доработку важных для лояльных клиентов функций; \n",
    "\n",
    "\n",
    "- разработка программы лояльности, основанной на ценностях лояльных клиентов, выявленных в ходе исследования;"
   ]
  },
  {
   "cell_type": "code",
   "execution_count": null,
   "id": "00733e1a",
   "metadata": {},
   "outputs": [],
   "source": []
  }
 ],
 "metadata": {
  "kernelspec": {
   "display_name": "Python 3 (ipykernel)",
   "language": "python",
   "name": "python3"
  },
  "language_info": {
   "codemirror_mode": {
    "name": "ipython",
    "version": 3
   },
   "file_extension": ".py",
   "mimetype": "text/x-python",
   "name": "python",
   "nbconvert_exporter": "python",
   "pygments_lexer": "ipython3",
   "version": "3.9.7"
  }
 },
 "nbformat": 4,
 "nbformat_minor": 5
}
